{
  "cells": [
    {
      "cell_type": "markdown",
      "metadata": {
        "toc": true,
        "id": "02AGXkzFiWnq"
      },
      "source": [
        "<h1>Содержание<span class=\"tocSkip\"></span></h1>\n",
        "<div class=\"toc\"><ul class=\"toc-item\"><li><span><a href=\"#Подготовка\" data-toc-modified-id=\"Подготовка-1\"><span class=\"toc-item-num\">1&nbsp;&nbsp;</span>Подготовка</a></span></li><li><span><a href=\"#Обучение\" data-toc-modified-id=\"Обучение-2\"><span class=\"toc-item-num\">2&nbsp;&nbsp;</span>Обучение</a></span></li><li><span><a href=\"#Выводы\" data-toc-modified-id=\"Выводы-3\"><span class=\"toc-item-num\">3&nbsp;&nbsp;</span>Выводы</a></span></li><li><span><a href=\"#Чек-лист-проверки\" data-toc-modified-id=\"Чек-лист-проверки-4\"><span class=\"toc-item-num\">4&nbsp;&nbsp;</span>Чек-лист проверки</a></span></li></ul></div>"
      ]
    },
    {
      "cell_type": "markdown",
      "metadata": {
        "id": "86fEnYPLiWnr"
      },
      "source": [
        "# Проект для «Викишоп»"
      ]
    },
    {
      "cell_type": "markdown",
      "metadata": {
        "id": "x9YL8ZLtiWnr"
      },
      "source": [
        "Интернет-магазин запускает новый сервис. Теперь пользователи могут редактировать и дополнять описания товаров, как в вики-сообществах. То есть клиенты предлагают свои правки и комментируют изменения других. Магазину нужен инструмент, который будет искать токсичные комментарии и отправлять их на модерацию.\n",
        "\n",
        "Обучите модель классифицировать комментарии на позитивные и негативные. В вашем распоряжении набор данных с разметкой о токсичности правок.\n",
        "\n",
        "Постройте модель со значением метрики качества *F1* не меньше 0.75.\n",
        "\n",
        "**Инструкция по выполнению проекта**\n",
        "\n",
        "1. Загрузите и подготовьте данные.\n",
        "2. Обучите разные модели.\n",
        "3. Сделайте выводы.\n",
        "\n",
        "**Описание данных**\n",
        "\n",
        "Данные находятся в файле `toxic_comments.csv`. Столбец *text* в нём содержит текст комментария, а *toxic* — целевой признак.\n"
      ]
    },
    {
      "cell_type": "markdown",
      "metadata": {
        "id": "94LdHEeHiWnr"
      },
      "source": [
        "## Подготовка"
      ]
    },
    {
      "cell_type": "code",
      "execution_count": null,
      "metadata": {
        "id": "CFjJsnQxiWnr"
      },
      "outputs": [],
      "source": [
        "import numpy as np\n",
        "import pandas as pd\n",
        "import matplotlib.pyplot as plt\n",
        "import os\n",
        "\n",
        "from sklearn.linear_model import LogisticRegression\n",
        "from sklearn.ensemble import RandomForestClassifier\n",
        "from catboost import CatBoostClassifier\n",
        "from sklearn.model_selection import train_test_split\n",
        "from sklearn.metrics import f1_score\n",
        "\n",
        "import nltk\n",
        "from nltk.corpus import stopwords, wordnet\n",
        "from nltk.stem import WordNetLemmatizer\n",
        "from nltk.tokenize import RegexpTokenizer\n",
        "from tqdm.notebook import tqdm\n",
        "from sklearn.feature_extraction.text import TfidfVectorizer"
      ]
    },
    {
      "cell_type": "code",
      "execution_count": null,
      "metadata": {
        "id": "BAs3uWkwiWns",
        "outputId": "4e6496db-50db-4cd1-aaed-cb3440c0e1fc"
      },
      "outputs": [
        {
          "name": "stderr",
          "output_type": "stream",
          "text": [
            "[nltk_data] Downloading package averaged_perceptron_tagger to\n",
            "[nltk_data]     /home/jovyan/nltk_data...\n",
            "[nltk_data]   Package averaged_perceptron_tagger is already up-to-\n",
            "[nltk_data]       date!\n"
          ]
        },
        {
          "data": {
            "text/plain": [
              "True"
            ]
          },
          "execution_count": 2,
          "metadata": {},
          "output_type": "execute_result"
        }
      ],
      "source": [
        "nltk.download('averaged_perceptron_tagger')"
      ]
    },
    {
      "cell_type": "code",
      "execution_count": null,
      "metadata": {
        "id": "3mSe19wpiWnu"
      },
      "outputs": [],
      "source": [
        "STATE = 12345"
      ]
    },
    {
      "cell_type": "code",
      "execution_count": null,
      "metadata": {
        "id": "j60vEVTPiWnu"
      },
      "outputs": [],
      "source": [
        "df = pd.read_csv('/datasets/toxic_comments.csv', index_col='Unnamed: 0')"
      ]
    },
    {
      "cell_type": "code",
      "execution_count": null,
      "metadata": {
        "id": "09Bzvli5iWnu"
      },
      "outputs": [],
      "source": [
        "pth1 = 'toxic_comments.csv'\n",
        "pth2 = '/datasets/toxic_comments.csv'\n",
        "\n",
        "if os.path.exists(pth1):\n",
        "  df = pd.read_csv(pth1, engine='python', index_col=\"Unnamed: 0\")\n",
        "elif os.path.exists(pth2):\n",
        "  df = pd.read_csv(pth2, engine='python', index_col=\"Unnamed: 0\")\n",
        "else:\n",
        "  print('Something is wrong')"
      ]
    },
    {
      "cell_type": "code",
      "execution_count": null,
      "metadata": {
        "id": "hD1UacrriWnv",
        "outputId": "8f8fccb1-a2a5-4609-98d1-b2326edb81f1"
      },
      "outputs": [
        {
          "data": {
            "text/html": [
              "<div>\n",
              "<style scoped>\n",
              "    .dataframe tbody tr th:only-of-type {\n",
              "        vertical-align: middle;\n",
              "    }\n",
              "\n",
              "    .dataframe tbody tr th {\n",
              "        vertical-align: top;\n",
              "    }\n",
              "\n",
              "    .dataframe thead th {\n",
              "        text-align: right;\n",
              "    }\n",
              "</style>\n",
              "<table border=\"1\" class=\"dataframe\">\n",
              "  <thead>\n",
              "    <tr style=\"text-align: right;\">\n",
              "      <th></th>\n",
              "      <th>text</th>\n",
              "      <th>toxic</th>\n",
              "    </tr>\n",
              "  </thead>\n",
              "  <tbody>\n",
              "    <tr>\n",
              "      <th>0</th>\n",
              "      <td>Explanation\\nWhy the edits made under my usern...</td>\n",
              "      <td>0</td>\n",
              "    </tr>\n",
              "    <tr>\n",
              "      <th>1</th>\n",
              "      <td>D'aww! He matches this background colour I'm s...</td>\n",
              "      <td>0</td>\n",
              "    </tr>\n",
              "    <tr>\n",
              "      <th>2</th>\n",
              "      <td>Hey man, I'm really not trying to edit war. It...</td>\n",
              "      <td>0</td>\n",
              "    </tr>\n",
              "    <tr>\n",
              "      <th>3</th>\n",
              "      <td>\"\\nMore\\nI can't make any real suggestions on ...</td>\n",
              "      <td>0</td>\n",
              "    </tr>\n",
              "    <tr>\n",
              "      <th>4</th>\n",
              "      <td>You, sir, are my hero. Any chance you remember...</td>\n",
              "      <td>0</td>\n",
              "    </tr>\n",
              "    <tr>\n",
              "      <th>5</th>\n",
              "      <td>\"\\n\\nCongratulations from me as well, use the ...</td>\n",
              "      <td>0</td>\n",
              "    </tr>\n",
              "    <tr>\n",
              "      <th>6</th>\n",
              "      <td>COCKSUCKER BEFORE YOU PISS AROUND ON MY WORK</td>\n",
              "      <td>1</td>\n",
              "    </tr>\n",
              "    <tr>\n",
              "      <th>7</th>\n",
              "      <td>Your vandalism to the Matt Shirvington article...</td>\n",
              "      <td>0</td>\n",
              "    </tr>\n",
              "    <tr>\n",
              "      <th>8</th>\n",
              "      <td>Sorry if the word 'nonsense' was offensive to ...</td>\n",
              "      <td>0</td>\n",
              "    </tr>\n",
              "    <tr>\n",
              "      <th>9</th>\n",
              "      <td>alignment on this subject and which are contra...</td>\n",
              "      <td>0</td>\n",
              "    </tr>\n",
              "  </tbody>\n",
              "</table>\n",
              "</div>"
            ],
            "text/plain": [
              "                                                text  toxic\n",
              "0  Explanation\\nWhy the edits made under my usern...      0\n",
              "1  D'aww! He matches this background colour I'm s...      0\n",
              "2  Hey man, I'm really not trying to edit war. It...      0\n",
              "3  \"\\nMore\\nI can't make any real suggestions on ...      0\n",
              "4  You, sir, are my hero. Any chance you remember...      0\n",
              "5  \"\\n\\nCongratulations from me as well, use the ...      0\n",
              "6       COCKSUCKER BEFORE YOU PISS AROUND ON MY WORK      1\n",
              "7  Your vandalism to the Matt Shirvington article...      0\n",
              "8  Sorry if the word 'nonsense' was offensive to ...      0\n",
              "9  alignment on this subject and which are contra...      0"
            ]
          },
          "execution_count": 40,
          "metadata": {},
          "output_type": "execute_result"
        }
      ],
      "source": [
        "df.head(10)"
      ]
    },
    {
      "cell_type": "code",
      "execution_count": null,
      "metadata": {
        "scrolled": true,
        "id": "quWMljGYiWnv",
        "outputId": "b3d309f4-ad94-4f7c-c3c5-1a0112feccb3"
      },
      "outputs": [
        {
          "name": "stdout",
          "output_type": "stream",
          "text": [
            "<class 'pandas.core.frame.DataFrame'>\n",
            "Int64Index: 159292 entries, 0 to 159450\n",
            "Data columns (total 2 columns):\n",
            " #   Column  Non-Null Count   Dtype \n",
            "---  ------  --------------   ----- \n",
            " 0   text    159292 non-null  object\n",
            " 1   toxic   159292 non-null  int64 \n",
            "dtypes: int64(1), object(1)\n",
            "memory usage: 3.6+ MB\n"
          ]
        }
      ],
      "source": [
        "df.info()"
      ]
    },
    {
      "cell_type": "code",
      "execution_count": null,
      "metadata": {
        "id": "_Puf-MIgiWnv",
        "outputId": "ac785a72-bd32-4cf3-af65-caca4aee1ecb"
      },
      "outputs": [
        {
          "data": {
            "image/png": "[encoded data removed]",
            "text/plain": [
              "<Figure size 432x288 with 1 Axes>"
            ]
          },
          "metadata": {
            "needs_background": "light"
          },
          "output_type": "display_data"
        }
      ],
      "source": [
        "plt.bar(x=['0', '1'], height=list(df['toxic'].value_counts()))\n",
        "plt.ylabel('Количество комментариев')\n",
        "plt.xlabel('Токсичность')\n",
        "plt.title('Оценка баланса классов');"
      ]
    },
    {
      "cell_type": "code",
      "execution_count": null,
      "metadata": {
        "id": "hpnrWaJoiWnx",
        "outputId": "4136f8af-7859-437e-f0b5-af9c877748b5"
      },
      "outputs": [
        {
          "data": {
            "text/plain": [
              "8.841344371679229"
            ]
          },
          "execution_count": 8,
          "metadata": {},
          "output_type": "execute_result"
        }
      ],
      "source": [
        "df[df['toxic']==0]['toxic'].count() / df[df['toxic']==1]['toxic'].count()"
      ]
    },
    {
      "cell_type": "code",
      "execution_count": null,
      "metadata": {
        "id": "R34YU-CjiWnx"
      },
      "outputs": [],
      "source": [
        "def get_wordnet_pos(word):\n",
        "    tag = nltk.pos_tag([word])[0][1][0].upper()\n",
        "    tag_dict = {'J': wordnet.ADJ,\n",
        "                'N': wordnet.NOUN,\n",
        "                'V': wordnet.VERB,\n",
        "                'R': wordnet.ADV}\n",
        "    return tag_dict.get(tag, wordnet.NOUN)"
      ]
    },
    {
      "cell_type": "code",
      "execution_count": null,
      "metadata": {
        "id": "cmCv9C2tiWnx"
      },
      "outputs": [],
      "source": [
        "lemmatizer = WordNetLemmatizer()"
      ]
    },
    {
      "cell_type": "code",
      "execution_count": null,
      "metadata": {
        "id": "YXUS-f-ciWnx"
      },
      "outputs": [],
      "source": [
        "tokenizer = RegexpTokenizer(r\"\\w+\")"
      ]
    },
    {
      "cell_type": "code",
      "execution_count": null,
      "metadata": {
        "colab": {
          "referenced_widgets": [
            "10cfe31e28824041933011cdd1c71045"
          ]
        },
        "id": "7HmuH_hsiWnx",
        "outputId": "02e87a37-395a-4e65-fb56-cdce8a2d5450"
      },
      "outputs": [
        {
          "data": {
            "application/vnd.jupyter.widget-view+json": {
              "model_id": "10cfe31e28824041933011cdd1c71045",
              "version_major": 2,
              "version_minor": 0
            },
            "text/plain": [
              "  0%|          | 0/159292 [00:00<?, ?it/s]"
            ]
          },
          "metadata": {},
          "output_type": "display_data"
        }
      ],
      "source": [
        "tqdm.pandas()\n",
        "\n",
        "df['words'] = df['text'].progress_apply(lambda x:\n",
        "               [lemmatizer.lemmatize(word, get_wordnet_pos(word)) for word in tokenizer.tokenize(x.lower())])"
      ]
    },
    {
      "cell_type": "code",
      "execution_count": null,
      "metadata": {
        "id": "I5ZnzBRIiWnx",
        "outputId": "43c93b67-3371-4fca-bfe7-d535c5ad482d"
      },
      "outputs": [
        {
          "data": {
            "text/html": [
              "<div>\n",
              "<style scoped>\n",
              "    .dataframe tbody tr th:only-of-type {\n",
              "        vertical-align: middle;\n",
              "    }\n",
              "\n",
              "    .dataframe tbody tr th {\n",
              "        vertical-align: top;\n",
              "    }\n",
              "\n",
              "    .dataframe thead th {\n",
              "        text-align: right;\n",
              "    }\n",
              "</style>\n",
              "<table border=\"1\" class=\"dataframe\">\n",
              "  <thead>\n",
              "    <tr style=\"text-align: right;\">\n",
              "      <th></th>\n",
              "      <th>text</th>\n",
              "      <th>toxic</th>\n",
              "      <th>words</th>\n",
              "    </tr>\n",
              "  </thead>\n",
              "  <tbody>\n",
              "    <tr>\n",
              "      <th>0</th>\n",
              "      <td>Explanation\\nWhy the edits made under my usern...</td>\n",
              "      <td>0</td>\n",
              "      <td>[explanation, why, the, edits, make, under, my...</td>\n",
              "    </tr>\n",
              "    <tr>\n",
              "      <th>1</th>\n",
              "      <td>D'aww! He matches this background colour I'm s...</td>\n",
              "      <td>0</td>\n",
              "      <td>[d, aww, he, match, this, background, colour, ...</td>\n",
              "    </tr>\n",
              "    <tr>\n",
              "      <th>2</th>\n",
              "      <td>Hey man, I'm really not trying to edit war. It...</td>\n",
              "      <td>0</td>\n",
              "      <td>[hey, man, i, m, really, not, try, to, edit, w...</td>\n",
              "    </tr>\n",
              "    <tr>\n",
              "      <th>3</th>\n",
              "      <td>\"\\nMore\\nI can't make any real suggestions on ...</td>\n",
              "      <td>0</td>\n",
              "      <td>[more, i, can, t, make, any, real, suggestion,...</td>\n",
              "    </tr>\n",
              "    <tr>\n",
              "      <th>4</th>\n",
              "      <td>You, sir, are my hero. Any chance you remember...</td>\n",
              "      <td>0</td>\n",
              "      <td>[you, sir, be, my, hero, any, chance, you, rem...</td>\n",
              "    </tr>\n",
              "  </tbody>\n",
              "</table>\n",
              "</div>"
            ],
            "text/plain": [
              "                                                text  toxic  \\\n",
              "0  Explanation\\nWhy the edits made under my usern...      0   \n",
              "1  D'aww! He matches this background colour I'm s...      0   \n",
              "2  Hey man, I'm really not trying to edit war. It...      0   \n",
              "3  \"\\nMore\\nI can't make any real suggestions on ...      0   \n",
              "4  You, sir, are my hero. Any chance you remember...      0   \n",
              "\n",
              "                                               words  \n",
              "0  [explanation, why, the, edits, make, under, my...  \n",
              "1  [d, aww, he, match, this, background, colour, ...  \n",
              "2  [hey, man, i, m, really, not, try, to, edit, w...  \n",
              "3  [more, i, can, t, make, any, real, suggestion,...  \n",
              "4  [you, sir, be, my, hero, any, chance, you, rem...  "
            ]
          },
          "execution_count": 13,
          "metadata": {},
          "output_type": "execute_result"
        }
      ],
      "source": [
        "df.head()"
      ]
    },
    {
      "cell_type": "code",
      "execution_count": null,
      "metadata": {
        "scrolled": false,
        "id": "4v3xJUG8iWny",
        "outputId": "f937ba9b-7b70-448d-a00c-971c9b288856"
      },
      "outputs": [
        {
          "name": "stderr",
          "output_type": "stream",
          "text": [
            "[nltk_data] Downloading package stopwords to /home/jovyan/nltk_data...\n",
            "[nltk_data]   Package stopwords is already up-to-date!\n"
          ]
        },
        {
          "data": {
            "text/plain": [
              "True"
            ]
          },
          "execution_count": 14,
          "metadata": {},
          "output_type": "execute_result"
        }
      ],
      "source": [
        "nltk.download('stopwords')"
      ]
    },
    {
      "cell_type": "code",
      "execution_count": null,
      "metadata": {
        "scrolled": true,
        "id": "ZbyFrOaFiWny",
        "outputId": "80a7968e-aaac-4a22-a607-d837b727b1b6"
      },
      "outputs": [
        {
          "data": {
            "text/plain": [
              "1403"
            ]
          },
          "execution_count": 15,
          "metadata": {},
          "output_type": "execute_result"
        }
      ],
      "source": [
        "max(df['words'].apply(lambda x: len(x)))"
      ]
    },
    {
      "cell_type": "code",
      "execution_count": null,
      "metadata": {
        "id": "auQu-tn3iWny"
      },
      "outputs": [],
      "source": [
        "stop_words = set(stopwords.words('english'))"
      ]
    },
    {
      "cell_type": "code",
      "execution_count": null,
      "metadata": {
        "id": "wKqeoJNMiWn8"
      },
      "outputs": [],
      "source": [
        "features = df['words'].apply(lambda line: ' '.join(line))"
      ]
    },
    {
      "cell_type": "code",
      "execution_count": null,
      "metadata": {
        "scrolled": true,
        "id": "fLV7ua11iWn8",
        "outputId": "31ab9f6f-f802-4acf-d763-a471ccd63d28"
      },
      "outputs": [
        {
          "data": {
            "text/plain": [
              "0         explanation why the edits make under my userna...\n",
              "1         d aww he match this background colour i m seem...\n",
              "2         hey man i m really not try to edit war it s ju...\n",
              "3         more i can t make any real suggestion on impro...\n",
              "4         you sir be my hero any chance you remember wha...\n",
              "                                ...                        \n",
              "159446    and for the second time of ask when your view ...\n",
              "159447    you should be ashamed of yourself that be a ho...\n",
              "159448    spitzer umm there no actual article for prosti...\n",
              "159449    and it look like it be actually you who put on...\n",
              "159450    and i really don t think you understand i come...\n",
              "Name: words, Length: 159292, dtype: object"
            ]
          },
          "execution_count": 18,
          "metadata": {},
          "output_type": "execute_result"
        }
      ],
      "source": [
        "features"
      ]
    },
    {
      "cell_type": "code",
      "execution_count": null,
      "metadata": {
        "id": "99u_EBDwiWn9"
      },
      "outputs": [],
      "source": [
        "target = df['toxic']"
      ]
    },
    {
      "cell_type": "code",
      "execution_count": null,
      "metadata": {
        "id": "0VSgqD81iWn9"
      },
      "outputs": [],
      "source": [
        "features_train, features_test, target_train, target_test = train_test_split(\n",
        "    features, target, test_size=0.2, random_state=STATE)"
      ]
    },
    {
      "cell_type": "code",
      "execution_count": null,
      "metadata": {
        "id": "wdlH0L4EiWn-"
      },
      "outputs": [],
      "source": [
        "features_valid, features_test, target_valid, target_test = train_test_split(\n",
        "    features_test, target_test, test_size=0.5, random_state=STATE)"
      ]
    },
    {
      "cell_type": "code",
      "execution_count": null,
      "metadata": {
        "id": "Quy0hz8KiWn-",
        "outputId": "3c9010ef-7056-47e3-a6e4-892ed719485e"
      },
      "outputs": [
        {
          "data": {
            "text/plain": [
              "((127433,), (15929,), (15930,))"
            ]
          },
          "execution_count": 22,
          "metadata": {},
          "output_type": "execute_result"
        }
      ],
      "source": [
        "features_train.shape, features_valid.shape, features_test.shape"
      ]
    },
    {
      "cell_type": "code",
      "execution_count": null,
      "metadata": {
        "id": "1wqtXz0XiWn_"
      },
      "outputs": [],
      "source": [
        "vectorizer_tf = TfidfVectorizer(stop_words=stop_words, max_features=50000)\n",
        "tf_features_train = vectorizer_tf.fit_transform(features_train)\n",
        "tf_features_valid = vectorizer_tf.transform(features_valid)\n",
        "tf_features_test = vectorizer_tf.transform(features_test)"
      ]
    },
    {
      "cell_type": "code",
      "execution_count": null,
      "metadata": {
        "id": "XpQTeGbqiWn_",
        "outputId": "95d01615-1eaa-4de9-a5f7-f9ecb6417d76"
      },
      "outputs": [
        {
          "data": {
            "text/plain": [
              "(127433, 50000)"
            ]
          },
          "execution_count": 24,
          "metadata": {},
          "output_type": "execute_result"
        }
      ],
      "source": [
        "tf_features_train.shape"
      ]
    },
    {
      "cell_type": "code",
      "execution_count": null,
      "metadata": {
        "id": "Gm7mAoGpiWn_",
        "outputId": "bfec709e-a679-4164-fb2e-d6887b610e12"
      },
      "outputs": [
        {
          "data": {
            "text/plain": [
              "((15930, 50000), (15929, 50000))"
            ]
          },
          "execution_count": 26,
          "metadata": {},
          "output_type": "execute_result"
        }
      ],
      "source": [
        "tf_features_test.shape, tf_features_valid.shape"
      ]
    },
    {
      "cell_type": "markdown",
      "metadata": {
        "id": "KvfnYsb3iWn_"
      },
      "source": [
        "## Обучение"
      ]
    },
    {
      "cell_type": "code",
      "execution_count": null,
      "metadata": {
        "id": "UUPFIWI1iWoA",
        "outputId": "fb195d65-2222-4b7c-f3e6-de58edd02646"
      },
      "outputs": [
        {
          "name": "stdout",
          "output_type": "stream",
          "text": [
            "CPU times: user 13.5 s, sys: 31.5 ms, total: 13.5 s\n",
            "Wall time: 13.5 s\n"
          ]
        },
        {
          "data": {
            "text/plain": [
              "0.7423719819580791"
            ]
          },
          "execution_count": 30,
          "metadata": {},
          "output_type": "execute_result"
        }
      ],
      "source": [
        "%%time\n",
        "\n",
        "model_LR = LogisticRegression(max_iter=300, class_weight='balanced', solver=\"saga\", n_jobs=-1, random_state=STATE)\n",
        "model_LR.fit(tf_features_train, target_train)\n",
        "f1_score(target_valid, model_LR.predict(tf_features_valid))"
      ]
    },
    {
      "cell_type": "code",
      "execution_count": null,
      "metadata": {
        "id": "k6KblQy-iWoB",
        "outputId": "92e99c6d-7abd-476f-fbe0-6286a4a9a149"
      },
      "outputs": [
        {
          "name": "stdout",
          "output_type": "stream",
          "text": [
            "CPU times: user 31min 3s, sys: 7.37 s, total: 31min 10s\n",
            "Wall time: 31min 13s\n"
          ]
        },
        {
          "data": {
            "text/plain": [
              "0.7592954990215264"
            ]
          },
          "execution_count": 34,
          "metadata": {},
          "output_type": "execute_result"
        }
      ],
      "source": [
        "%%time\n",
        "\n",
        "model_cat = CatBoostClassifier(class_weights={0: 1.0, 1: 8.84}, verbose=False, random_state=STATE)\n",
        "model_cat.fit(tf_features_train, target_train)\n",
        "f1_score(target_valid, model_cat.predict(tf_features_valid))"
      ]
    },
    {
      "cell_type": "code",
      "execution_count": null,
      "metadata": {
        "scrolled": true,
        "id": "OnXnvGcmiWoC",
        "outputId": "6cc1aa42-e8e9-4860-e588-f5412c3ee134"
      },
      "outputs": [
        {
          "name": "stdout",
          "output_type": "stream",
          "text": [
            "CPU times: user 10min 44s, sys: 829 ms, total: 10min 45s\n",
            "Wall time: 10min 45s\n"
          ]
        },
        {
          "data": {
            "text/plain": [
              "0.6506024096385542"
            ]
          },
          "execution_count": 35,
          "metadata": {},
          "output_type": "execute_result"
        }
      ],
      "source": [
        "%%time\n",
        "\n",
        "model_RF = RandomForestClassifier(n_estimators=150, class_weight='balanced', n_jobs=-1, random_state=STATE)\n",
        "model_RF.fit(tf_features_train, target_train)\n",
        "f1_score(target_valid, model_RF.predict(tf_features_valid))"
      ]
    },
    {
      "cell_type": "markdown",
      "metadata": {
        "id": "i7DPyEeiiWoC"
      },
      "source": [
        "Модели обучены, и проверены на валидационной выборке. Из всех моделей единственной удовлетворяющей требования заказчика, является CatBoosting. Не обходимо её окончательно проверить на тестовой выборке."
      ]
    },
    {
      "cell_type": "code",
      "execution_count": null,
      "metadata": {
        "scrolled": true,
        "id": "BszbhMIRiWoD",
        "outputId": "eccbed97-7320-4201-a1ec-2706daa84571"
      },
      "outputs": [
        {
          "data": {
            "text/plain": [
              "0.7578651685393258"
            ]
          },
          "execution_count": 36,
          "metadata": {},
          "output_type": "execute_result"
        }
      ],
      "source": [
        "f1_score(target_test, model_cat.predict(tf_features_test))"
      ]
    },
    {
      "cell_type": "markdown",
      "metadata": {
        "id": "c_UZBRUWiWoD"
      },
      "source": [
        "По итогам проверки получаем модель, которую можем рекомендовать заказчику."
      ]
    },
    {
      "cell_type": "markdown",
      "metadata": {
        "id": "w2pJIPmGiWoD"
      },
      "source": [
        "## Выводы"
      ]
    },
    {
      "cell_type": "markdown",
      "metadata": {
        "id": "-5GKlrWDiWoD"
      },
      "source": [
        "При выполнении запроса интернет-магазина «Викишоп» были обработаны текстовые комментарии пользователей. Текст был токенизирован и лематризирован. Результат был отфильтрован на наличие стоп слов и векторизован с помощью *tf-idf*. Был обнаружен дисбаланс классов и предложены модели модели логистической регресии, случайного леса и градиентного бустинга, учитывающие наличие дисбаланса. По результатам проверок на обучающей выборке, были предложены все три модели, так как метрика *f1* была выше 0.82, что является достаточным условием. Далее модели проверены на валидационной выборке и выбрана лучшая модель. После  осуществления проверки была выбрана модель градиентного бустинга и проведена окончательная оценка на тестовой выборке. Метрика  *f1* равна 0,757 что устраивает требования заказчика. Модель рекомендована к использованию."
      ]
    },
    {
      "cell_type": "markdown",
      "metadata": {
        "id": "oAIn3gsZiWoE"
      },
      "source": [
        "## Чек-лист проверки"
      ]
    },
    {
      "cell_type": "markdown",
      "metadata": {
        "id": "_xdb3HbyiWoE"
      },
      "source": [
        "- [x]  Весь код выполняется без ошибок\n",
        "- [x]  Ячейки с кодом расположены в порядке исполнения\n",
        "- [x]  Данные загружены и подготовлены\n",
        "- [x]  Модели обучены\n",
        "- [x]  Значение метрики *F1* не меньше 0.75\n",
        "- [x]  Выводы написаны"
      ]
    }
  ],
  "metadata": {
    "ExecuteTimeLog": [
      {
        "duration": 3253,
        "start_time": "2023-09-11T14:05:06.342Z"
      },
      {
        "duration": 214,
        "start_time": "2023-09-11T14:06:31.824Z"
      },
      {
        "duration": 3732,
        "start_time": "2023-09-11T14:13:14.783Z"
      },
      {
        "duration": 14,
        "start_time": "2023-09-11T14:14:25.458Z"
      },
      {
        "duration": 36,
        "start_time": "2023-09-11T14:15:46.858Z"
      },
      {
        "duration": 2611,
        "start_time": "2023-09-12T08:06:01.505Z"
      },
      {
        "duration": 2408,
        "start_time": "2023-09-12T08:06:04.118Z"
      },
      {
        "duration": 12,
        "start_time": "2023-09-12T08:06:06.528Z"
      },
      {
        "duration": 40,
        "start_time": "2023-09-12T08:06:06.542Z"
      },
      {
        "duration": 2047,
        "start_time": "2023-09-12T08:07:10.821Z"
      },
      {
        "duration": 316,
        "start_time": "2023-09-12T08:25:40.276Z"
      },
      {
        "duration": 21,
        "start_time": "2023-09-12T08:30:56.555Z"
      },
      {
        "duration": 219340,
        "start_time": "2023-09-12T08:34:47.489Z"
      },
      {
        "duration": 17,
        "start_time": "2023-09-12T08:41:49.418Z"
      },
      {
        "duration": 4683,
        "start_time": "2023-09-12T08:41:50.931Z"
      },
      {
        "duration": 0,
        "start_time": "2023-09-12T08:41:55.616Z"
      },
      {
        "duration": 0,
        "start_time": "2023-09-12T08:41:55.617Z"
      },
      {
        "duration": 220359,
        "start_time": "2023-09-12T08:41:58.969Z"
      },
      {
        "duration": 0,
        "start_time": "2023-09-12T08:45:39.330Z"
      },
      {
        "duration": 220027,
        "start_time": "2023-09-12T08:47:26.344Z"
      },
      {
        "duration": 76,
        "start_time": "2023-09-12T08:53:19.412Z"
      },
      {
        "duration": 2797,
        "start_time": "2023-09-12T09:01:34.459Z"
      },
      {
        "duration": 2455,
        "start_time": "2023-09-12T09:01:37.258Z"
      },
      {
        "duration": 13,
        "start_time": "2023-09-12T09:01:39.716Z"
      },
      {
        "duration": 53,
        "start_time": "2023-09-12T09:01:39.731Z"
      },
      {
        "duration": 2145,
        "start_time": "2023-09-12T09:01:39.786Z"
      },
      {
        "duration": 224722,
        "start_time": "2023-09-12T09:01:41.933Z"
      },
      {
        "duration": 74,
        "start_time": "2023-09-12T09:05:26.657Z"
      },
      {
        "duration": 3086,
        "start_time": "2023-09-12T09:07:57.694Z"
      },
      {
        "duration": 2436,
        "start_time": "2023-09-12T09:08:00.782Z"
      },
      {
        "duration": 12,
        "start_time": "2023-09-12T09:08:03.220Z"
      },
      {
        "duration": 33,
        "start_time": "2023-09-12T09:08:03.234Z"
      },
      {
        "duration": 43,
        "start_time": "2023-09-12T09:08:03.269Z"
      },
      {
        "duration": 2007,
        "start_time": "2023-09-12T09:08:03.313Z"
      },
      {
        "duration": 86058,
        "start_time": "2023-09-12T09:08:05.322Z"
      },
      {
        "duration": 30,
        "start_time": "2023-09-12T09:09:31.382Z"
      },
      {
        "duration": 17109,
        "start_time": "2023-09-12T09:09:31.414Z"
      },
      {
        "duration": 768,
        "start_time": "2023-09-12T09:09:48.525Z"
      },
      {
        "duration": 3,
        "start_time": "2023-09-12T09:33:51.951Z"
      },
      {
        "duration": 3,
        "start_time": "2023-09-12T09:33:52.599Z"
      },
      {
        "duration": 263,
        "start_time": "2023-09-12T09:33:53.423Z"
      },
      {
        "duration": 3,
        "start_time": "2023-09-12T09:34:52.286Z"
      },
      {
        "duration": 3428,
        "start_time": "2023-09-12T09:35:19.809Z"
      },
      {
        "duration": 2325,
        "start_time": "2023-09-12T09:35:23.239Z"
      },
      {
        "duration": 13,
        "start_time": "2023-09-12T09:35:25.566Z"
      },
      {
        "duration": 64,
        "start_time": "2023-09-12T09:35:25.580Z"
      },
      {
        "duration": 70,
        "start_time": "2023-09-12T09:35:25.646Z"
      },
      {
        "duration": 1984,
        "start_time": "2023-09-12T09:35:25.717Z"
      },
      {
        "duration": 85473,
        "start_time": "2023-09-12T09:35:27.703Z"
      },
      {
        "duration": 28,
        "start_time": "2023-09-12T09:36:53.177Z"
      },
      {
        "duration": 3947,
        "start_time": "2023-09-12T09:38:05.415Z"
      },
      {
        "duration": 2330,
        "start_time": "2023-09-12T09:38:09.364Z"
      },
      {
        "duration": 12,
        "start_time": "2023-09-12T09:38:11.696Z"
      },
      {
        "duration": 44,
        "start_time": "2023-09-12T09:38:11.710Z"
      },
      {
        "duration": 33,
        "start_time": "2023-09-12T09:38:11.756Z"
      },
      {
        "duration": 1871,
        "start_time": "2023-09-12T09:38:11.791Z"
      },
      {
        "duration": 84568,
        "start_time": "2023-09-12T09:38:13.664Z"
      },
      {
        "duration": 32,
        "start_time": "2023-09-12T09:39:38.234Z"
      },
      {
        "duration": 2876,
        "start_time": "2023-09-12T09:40:30.064Z"
      },
      {
        "duration": 2311,
        "start_time": "2023-09-12T09:40:32.941Z"
      },
      {
        "duration": 14,
        "start_time": "2023-09-12T09:40:35.254Z"
      },
      {
        "duration": 49,
        "start_time": "2023-09-12T09:40:35.270Z"
      },
      {
        "duration": 26,
        "start_time": "2023-09-12T09:40:35.321Z"
      },
      {
        "duration": 2139,
        "start_time": "2023-09-12T09:40:35.349Z"
      },
      {
        "duration": 87163,
        "start_time": "2023-09-12T09:40:37.490Z"
      },
      {
        "duration": 29,
        "start_time": "2023-09-12T09:42:04.655Z"
      },
      {
        "duration": 44,
        "start_time": "2023-09-12T09:42:51.649Z"
      },
      {
        "duration": 2788,
        "start_time": "2023-09-12T09:43:05.483Z"
      },
      {
        "duration": 2397,
        "start_time": "2023-09-12T09:43:08.273Z"
      },
      {
        "duration": 11,
        "start_time": "2023-09-12T09:43:10.672Z"
      },
      {
        "duration": 29,
        "start_time": "2023-09-12T09:43:10.685Z"
      },
      {
        "duration": 15,
        "start_time": "2023-09-12T09:43:10.716Z"
      },
      {
        "duration": 1967,
        "start_time": "2023-09-12T09:43:10.733Z"
      },
      {
        "duration": 42879,
        "start_time": "2023-09-12T09:43:12.702Z"
      },
      {
        "duration": 15,
        "start_time": "2023-09-12T09:43:55.582Z"
      },
      {
        "duration": 8669,
        "start_time": "2023-09-12T09:43:55.599Z"
      },
      {
        "duration": 377,
        "start_time": "2023-09-12T09:44:04.269Z"
      },
      {
        "duration": 4,
        "start_time": "2023-09-12T09:44:04.648Z"
      },
      {
        "duration": 21,
        "start_time": "2023-09-12T09:44:04.654Z"
      },
      {
        "duration": 337,
        "start_time": "2023-09-12T09:44:04.676Z"
      },
      {
        "duration": 3,
        "start_time": "2023-09-12T09:44:05.015Z"
      },
      {
        "duration": 34654,
        "start_time": "2023-09-12T09:47:02.000Z"
      },
      {
        "duration": 3,
        "start_time": "2023-09-12T09:48:36.562Z"
      },
      {
        "duration": 35384,
        "start_time": "2023-09-12T09:48:53.267Z"
      },
      {
        "duration": 2,
        "start_time": "2023-09-12T10:10:24.789Z"
      },
      {
        "duration": 300,
        "start_time": "2023-09-12T10:15:47.174Z"
      },
      {
        "duration": 3400,
        "start_time": "2023-09-12T10:21:48.113Z"
      },
      {
        "duration": 2402,
        "start_time": "2023-09-12T10:21:51.515Z"
      },
      {
        "duration": 13,
        "start_time": "2023-09-12T10:21:53.918Z"
      },
      {
        "duration": 43,
        "start_time": "2023-09-12T10:21:53.933Z"
      },
      {
        "duration": 20,
        "start_time": "2023-09-12T10:21:53.979Z"
      },
      {
        "duration": 2045,
        "start_time": "2023-09-12T10:21:54.000Z"
      },
      {
        "duration": 45318,
        "start_time": "2023-09-12T10:21:56.048Z"
      },
      {
        "duration": 24,
        "start_time": "2023-09-12T10:22:41.368Z"
      },
      {
        "duration": 14372,
        "start_time": "2023-09-12T10:22:41.394Z"
      },
      {
        "duration": 668,
        "start_time": "2023-09-12T10:22:55.769Z"
      },
      {
        "duration": 70,
        "start_time": "2023-09-12T10:24:30.676Z"
      },
      {
        "duration": 3113,
        "start_time": "2023-09-12T10:24:34.859Z"
      },
      {
        "duration": 2058,
        "start_time": "2023-09-12T10:24:37.973Z"
      },
      {
        "duration": 17998,
        "start_time": "2023-09-12T10:24:48.835Z"
      },
      {
        "duration": 2476,
        "start_time": "2023-09-12T10:25:14.203Z"
      },
      {
        "duration": 12,
        "start_time": "2023-09-12T10:25:16.681Z"
      },
      {
        "duration": 31,
        "start_time": "2023-09-12T10:25:16.695Z"
      },
      {
        "duration": 23,
        "start_time": "2023-09-12T10:25:16.728Z"
      },
      {
        "duration": 372,
        "start_time": "2023-09-12T10:25:16.753Z"
      },
      {
        "duration": 44185,
        "start_time": "2023-09-12T10:25:20.479Z"
      },
      {
        "duration": 15,
        "start_time": "2023-09-12T10:26:04.666Z"
      },
      {
        "duration": 15024,
        "start_time": "2023-09-12T10:26:04.683Z"
      },
      {
        "duration": 629,
        "start_time": "2023-09-12T10:26:19.709Z"
      },
      {
        "duration": 3,
        "start_time": "2023-09-12T10:26:24.392Z"
      },
      {
        "duration": 125,
        "start_time": "2023-09-12T10:26:27.891Z"
      },
      {
        "duration": 3,
        "start_time": "2023-09-12T10:28:43.511Z"
      },
      {
        "duration": 42,
        "start_time": "2023-09-12T10:28:45.013Z"
      },
      {
        "duration": 2,
        "start_time": "2023-09-12T10:28:51.239Z"
      },
      {
        "duration": 48,
        "start_time": "2023-09-12T10:28:51.580Z"
      },
      {
        "duration": 2,
        "start_time": "2023-09-12T10:29:04.204Z"
      },
      {
        "duration": 47,
        "start_time": "2023-09-12T10:29:04.999Z"
      },
      {
        "duration": 3,
        "start_time": "2023-09-12T10:29:09.031Z"
      },
      {
        "duration": 44,
        "start_time": "2023-09-12T10:29:09.730Z"
      },
      {
        "duration": 2,
        "start_time": "2023-09-12T10:34:23.743Z"
      },
      {
        "duration": 48,
        "start_time": "2023-09-12T10:34:24.323Z"
      },
      {
        "duration": 2,
        "start_time": "2023-09-12T10:35:03.828Z"
      },
      {
        "duration": 48,
        "start_time": "2023-09-12T10:35:21.065Z"
      },
      {
        "duration": 53,
        "start_time": "2023-09-12T10:41:49.738Z"
      },
      {
        "duration": 43,
        "start_time": "2023-09-12T10:47:44.192Z"
      },
      {
        "duration": 39,
        "start_time": "2023-09-12T10:51:49.981Z"
      },
      {
        "duration": 3917,
        "start_time": "2023-09-12T10:52:15.951Z"
      },
      {
        "duration": 2392,
        "start_time": "2023-09-12T10:52:19.870Z"
      },
      {
        "duration": 12,
        "start_time": "2023-09-12T10:52:22.263Z"
      },
      {
        "duration": 40,
        "start_time": "2023-09-12T10:52:22.277Z"
      },
      {
        "duration": 23,
        "start_time": "2023-09-12T10:52:22.319Z"
      },
      {
        "duration": 2003,
        "start_time": "2023-09-12T10:52:22.343Z"
      },
      {
        "duration": 47109,
        "start_time": "2023-09-12T10:52:24.348Z"
      },
      {
        "duration": 17,
        "start_time": "2023-09-12T10:53:11.458Z"
      },
      {
        "duration": 13177,
        "start_time": "2023-09-12T10:53:11.477Z"
      },
      {
        "duration": 558,
        "start_time": "2023-09-12T10:53:24.656Z"
      },
      {
        "duration": 2971,
        "start_time": "2023-09-12T10:54:32.147Z"
      },
      {
        "duration": 19476,
        "start_time": "2023-09-12T10:54:35.120Z"
      },
      {
        "duration": 2422,
        "start_time": "2023-09-12T10:54:54.597Z"
      },
      {
        "duration": 12,
        "start_time": "2023-09-12T10:54:57.021Z"
      },
      {
        "duration": 43,
        "start_time": "2023-09-12T10:54:57.034Z"
      },
      {
        "duration": 15,
        "start_time": "2023-09-12T10:54:57.079Z"
      },
      {
        "duration": 310,
        "start_time": "2023-09-12T10:54:57.095Z"
      },
      {
        "duration": 45919,
        "start_time": "2023-09-12T10:54:57.406Z"
      },
      {
        "duration": 15,
        "start_time": "2023-09-12T10:55:43.326Z"
      },
      {
        "duration": 14432,
        "start_time": "2023-09-12T10:55:43.349Z"
      },
      {
        "duration": 604,
        "start_time": "2023-09-12T10:55:57.783Z"
      },
      {
        "duration": 2,
        "start_time": "2023-09-12T10:55:58.389Z"
      },
      {
        "duration": 415,
        "start_time": "2023-09-12T10:55:58.392Z"
      },
      {
        "duration": 0,
        "start_time": "2023-09-12T10:55:58.809Z"
      },
      {
        "duration": 0,
        "start_time": "2023-09-12T10:55:58.810Z"
      },
      {
        "duration": 0,
        "start_time": "2023-09-12T10:55:58.812Z"
      },
      {
        "duration": 0,
        "start_time": "2023-09-12T10:55:58.813Z"
      },
      {
        "duration": 0,
        "start_time": "2023-09-12T10:55:58.814Z"
      },
      {
        "duration": 3139,
        "start_time": "2023-09-12T13:59:48.530Z"
      },
      {
        "duration": 3577,
        "start_time": "2023-09-12T13:59:54.548Z"
      },
      {
        "duration": 14,
        "start_time": "2023-09-12T13:59:58.127Z"
      },
      {
        "duration": 40,
        "start_time": "2023-09-12T13:59:58.142Z"
      },
      {
        "duration": 14,
        "start_time": "2023-09-12T14:00:02.971Z"
      },
      {
        "duration": 2045,
        "start_time": "2023-09-12T14:00:03.644Z"
      },
      {
        "duration": 49996,
        "start_time": "2023-09-12T14:00:05.692Z"
      },
      {
        "duration": 9,
        "start_time": "2023-09-12T14:00:55.690Z"
      },
      {
        "duration": 3,
        "start_time": "2023-09-12T14:07:34.525Z"
      },
      {
        "duration": 328,
        "start_time": "2023-09-12T14:07:35.010Z"
      },
      {
        "duration": 2831,
        "start_time": "2023-09-12T14:07:46.716Z"
      },
      {
        "duration": 30592,
        "start_time": "2023-09-12T14:07:49.549Z"
      },
      {
        "duration": 883,
        "start_time": "2023-09-12T14:08:20.142Z"
      },
      {
        "duration": 14,
        "start_time": "2023-09-12T14:08:21.027Z"
      },
      {
        "duration": 42,
        "start_time": "2023-09-12T14:08:21.043Z"
      },
      {
        "duration": 12,
        "start_time": "2023-09-12T14:08:21.087Z"
      },
      {
        "duration": 162,
        "start_time": "2023-09-12T14:08:21.101Z"
      },
      {
        "duration": 47824,
        "start_time": "2023-09-12T14:08:21.266Z"
      },
      {
        "duration": 9,
        "start_time": "2023-09-12T14:09:09.092Z"
      },
      {
        "duration": 33,
        "start_time": "2023-09-12T14:09:09.103Z"
      },
      {
        "duration": 7267,
        "start_time": "2023-09-12T14:09:09.138Z"
      },
      {
        "duration": 341,
        "start_time": "2023-09-12T14:09:16.407Z"
      },
      {
        "duration": 2,
        "start_time": "2023-09-12T14:09:16.750Z"
      },
      {
        "duration": 423,
        "start_time": "2023-09-12T14:09:16.754Z"
      },
      {
        "duration": 0,
        "start_time": "2023-09-12T14:09:17.178Z"
      },
      {
        "duration": 0,
        "start_time": "2023-09-12T14:09:17.179Z"
      },
      {
        "duration": 0,
        "start_time": "2023-09-12T14:09:17.181Z"
      },
      {
        "duration": 0,
        "start_time": "2023-09-12T14:09:17.181Z"
      },
      {
        "duration": 0,
        "start_time": "2023-09-12T14:09:17.182Z"
      },
      {
        "duration": 2806,
        "start_time": "2023-09-12T14:14:07.789Z"
      },
      {
        "duration": 4320,
        "start_time": "2023-09-12T14:14:10.597Z"
      },
      {
        "duration": 928,
        "start_time": "2023-09-12T14:14:14.918Z"
      },
      {
        "duration": 19,
        "start_time": "2023-09-12T14:14:15.849Z"
      },
      {
        "duration": 39,
        "start_time": "2023-09-12T14:14:15.870Z"
      },
      {
        "duration": 29,
        "start_time": "2023-09-12T14:14:15.911Z"
      },
      {
        "duration": 184,
        "start_time": "2023-09-12T14:14:15.941Z"
      },
      {
        "duration": 95800,
        "start_time": "2023-09-12T14:14:16.127Z"
      },
      {
        "duration": 9,
        "start_time": "2023-09-12T14:15:51.929Z"
      },
      {
        "duration": 45,
        "start_time": "2023-09-12T14:15:51.940Z"
      },
      {
        "duration": 3142,
        "start_time": "2023-09-12T14:16:43.511Z"
      },
      {
        "duration": 30707,
        "start_time": "2023-09-12T14:16:46.655Z"
      },
      {
        "duration": 3478,
        "start_time": "2023-09-12T14:17:17.366Z"
      },
      {
        "duration": 15,
        "start_time": "2023-09-12T14:17:20.847Z"
      },
      {
        "duration": 48,
        "start_time": "2023-09-12T14:17:20.864Z"
      },
      {
        "duration": 47,
        "start_time": "2023-09-12T14:17:20.914Z"
      },
      {
        "duration": 210,
        "start_time": "2023-09-12T14:17:20.962Z"
      },
      {
        "duration": 94538,
        "start_time": "2023-09-12T14:17:21.174Z"
      },
      {
        "duration": 9,
        "start_time": "2023-09-12T14:18:55.713Z"
      },
      {
        "duration": 43,
        "start_time": "2023-09-12T14:18:55.724Z"
      },
      {
        "duration": 50,
        "start_time": "2023-09-12T14:19:49.513Z"
      },
      {
        "duration": 3388,
        "start_time": "2023-09-12T14:20:00.310Z"
      },
      {
        "duration": 30767,
        "start_time": "2023-09-12T14:20:03.700Z"
      },
      {
        "duration": 3540,
        "start_time": "2023-09-12T14:20:34.468Z"
      },
      {
        "duration": 14,
        "start_time": "2023-09-12T14:20:38.009Z"
      },
      {
        "duration": 46,
        "start_time": "2023-09-12T14:20:38.025Z"
      },
      {
        "duration": 20,
        "start_time": "2023-09-12T14:20:38.073Z"
      },
      {
        "duration": 196,
        "start_time": "2023-09-12T14:20:38.095Z"
      },
      {
        "duration": 3155,
        "start_time": "2023-09-13T07:55:05.821Z"
      },
      {
        "duration": 20612,
        "start_time": "2023-09-13T07:55:08.978Z"
      },
      {
        "duration": 2664,
        "start_time": "2023-09-13T07:55:29.591Z"
      },
      {
        "duration": 14,
        "start_time": "2023-09-13T07:55:32.257Z"
      },
      {
        "duration": 46,
        "start_time": "2023-09-13T07:55:32.273Z"
      },
      {
        "duration": 16,
        "start_time": "2023-09-13T07:55:32.367Z"
      },
      {
        "duration": 385,
        "start_time": "2023-09-13T07:55:45.072Z"
      },
      {
        "duration": 109081,
        "start_time": "2023-09-13T07:55:45.645Z"
      },
      {
        "duration": 9,
        "start_time": "2023-09-13T07:57:34.728Z"
      },
      {
        "duration": 57,
        "start_time": "2023-09-13T07:57:34.739Z"
      },
      {
        "duration": 63,
        "start_time": "2023-09-13T09:08:53.588Z"
      },
      {
        "duration": 5657,
        "start_time": "2023-09-13T09:08:59.023Z"
      },
      {
        "duration": 2795,
        "start_time": "2023-09-13T09:09:04.683Z"
      },
      {
        "duration": 17607,
        "start_time": "2023-09-13T09:09:14.817Z"
      },
      {
        "duration": 4,
        "start_time": "2023-09-13T09:33:53.592Z"
      },
      {
        "duration": 2702,
        "start_time": "2023-09-13T09:34:05.449Z"
      },
      {
        "duration": 2395,
        "start_time": "2023-09-13T09:34:09.608Z"
      },
      {
        "duration": 18,
        "start_time": "2023-09-13T09:34:12.005Z"
      },
      {
        "duration": 41,
        "start_time": "2023-09-13T09:34:12.199Z"
      },
      {
        "duration": 2,
        "start_time": "2023-09-13T09:34:26.414Z"
      },
      {
        "duration": 1945,
        "start_time": "2023-09-13T09:34:27.815Z"
      },
      {
        "duration": 257536,
        "start_time": "2023-09-13T09:34:30.892Z"
      },
      {
        "duration": 85,
        "start_time": "2023-09-13T09:38:48.430Z"
      },
      {
        "duration": 6585,
        "start_time": "2023-09-13T09:40:52.603Z"
      },
      {
        "duration": 21611,
        "start_time": "2023-09-13T09:40:59.190Z"
      },
      {
        "duration": 2471,
        "start_time": "2023-09-13T09:41:20.803Z"
      },
      {
        "duration": 20,
        "start_time": "2023-09-13T09:41:23.276Z"
      },
      {
        "duration": 45,
        "start_time": "2023-09-13T09:41:23.298Z"
      },
      {
        "duration": 16,
        "start_time": "2023-09-13T09:41:23.345Z"
      },
      {
        "duration": 304,
        "start_time": "2023-09-13T09:41:23.363Z"
      },
      {
        "duration": 104623,
        "start_time": "2023-09-13T09:41:23.669Z"
      },
      {
        "duration": 9,
        "start_time": "2023-09-13T09:43:08.293Z"
      },
      {
        "duration": 33,
        "start_time": "2023-09-13T09:43:08.310Z"
      },
      {
        "duration": 4383,
        "start_time": "2023-09-13T09:45:20.949Z"
      },
      {
        "duration": 20508,
        "start_time": "2023-09-13T09:45:25.334Z"
      },
      {
        "duration": 2424,
        "start_time": "2023-09-13T09:45:45.844Z"
      },
      {
        "duration": 15,
        "start_time": "2023-09-13T09:45:48.270Z"
      },
      {
        "duration": 36,
        "start_time": "2023-09-13T09:45:48.288Z"
      },
      {
        "duration": 16,
        "start_time": "2023-09-13T09:45:48.325Z"
      },
      {
        "duration": 322,
        "start_time": "2023-09-13T09:45:48.343Z"
      },
      {
        "duration": 102152,
        "start_time": "2023-09-13T09:45:48.667Z"
      },
      {
        "duration": 9,
        "start_time": "2023-09-13T09:47:30.822Z"
      },
      {
        "duration": 55,
        "start_time": "2023-09-13T09:47:30.833Z"
      },
      {
        "duration": 52,
        "start_time": "2023-09-13T09:55:45.690Z"
      },
      {
        "duration": 4173,
        "start_time": "2023-09-13T09:55:52.348Z"
      },
      {
        "duration": 20274,
        "start_time": "2023-09-13T09:55:56.523Z"
      },
      {
        "duration": 2370,
        "start_time": "2023-09-13T09:56:16.799Z"
      },
      {
        "duration": 13,
        "start_time": "2023-09-13T09:56:19.171Z"
      },
      {
        "duration": 38,
        "start_time": "2023-09-13T09:56:19.186Z"
      },
      {
        "duration": 47,
        "start_time": "2023-09-13T09:56:19.226Z"
      },
      {
        "duration": 292,
        "start_time": "2023-09-13T09:56:19.275Z"
      },
      {
        "duration": 4,
        "start_time": "2023-09-13T09:56:41.095Z"
      },
      {
        "duration": 13,
        "start_time": "2023-09-13T09:56:49.324Z"
      },
      {
        "duration": 4,
        "start_time": "2023-09-13T09:56:49.765Z"
      },
      {
        "duration": 306,
        "start_time": "2023-09-13T09:59:04.641Z"
      },
      {
        "duration": 50647,
        "start_time": "2023-09-13T09:59:04.949Z"
      },
      {
        "duration": 11,
        "start_time": "2023-09-13T09:59:55.598Z"
      },
      {
        "duration": 39,
        "start_time": "2023-09-13T09:59:55.611Z"
      },
      {
        "duration": 13132,
        "start_time": "2023-09-13T09:59:55.652Z"
      },
      {
        "duration": 2055,
        "start_time": "2023-09-13T10:00:08.786Z"
      },
      {
        "duration": 3,
        "start_time": "2023-09-13T10:00:10.843Z"
      },
      {
        "duration": 166,
        "start_time": "2023-09-13T10:00:10.848Z"
      },
      {
        "duration": 3,
        "start_time": "2023-09-13T10:05:22.050Z"
      },
      {
        "duration": 52,
        "start_time": "2023-09-13T10:05:23.065Z"
      },
      {
        "duration": 2,
        "start_time": "2023-09-13T10:08:56.078Z"
      },
      {
        "duration": 51,
        "start_time": "2023-09-13T10:08:57.173Z"
      },
      {
        "duration": 4,
        "start_time": "2023-09-13T10:09:28.560Z"
      },
      {
        "duration": 21,
        "start_time": "2023-09-13T10:09:48.350Z"
      },
      {
        "duration": 1529,
        "start_time": "2023-09-13T10:10:30.450Z"
      },
      {
        "duration": 2330,
        "start_time": "2023-09-13T10:11:56.620Z"
      },
      {
        "duration": 20,
        "start_time": "2023-09-13T10:13:07.201Z"
      },
      {
        "duration": 5,
        "start_time": "2023-09-13T10:13:33.771Z"
      },
      {
        "duration": 5,
        "start_time": "2023-09-13T10:13:49.978Z"
      },
      {
        "duration": 23,
        "start_time": "2023-09-13T10:20:44.256Z"
      },
      {
        "duration": 20,
        "start_time": "2023-09-13T10:20:50.966Z"
      },
      {
        "duration": 14,
        "start_time": "2023-09-13T10:20:59.490Z"
      },
      {
        "duration": 5,
        "start_time": "2023-09-13T11:24:32.084Z"
      },
      {
        "duration": 21,
        "start_time": "2023-09-13T12:27:34.842Z"
      },
      {
        "duration": 190,
        "start_time": "2023-09-13T12:28:36.541Z"
      },
      {
        "duration": 50724,
        "start_time": "2023-09-13T12:28:38.920Z"
      },
      {
        "duration": 21,
        "start_time": "2023-09-13T12:29:29.646Z"
      },
      {
        "duration": 9,
        "start_time": "2023-09-13T12:29:47.807Z"
      },
      {
        "duration": 31,
        "start_time": "2023-09-13T12:38:05.593Z"
      },
      {
        "duration": 735,
        "start_time": "2023-09-13T12:38:13.586Z"
      },
      {
        "duration": 5,
        "start_time": "2023-09-13T12:38:20.713Z"
      },
      {
        "duration": 5,
        "start_time": "2023-09-13T12:38:43.164Z"
      },
      {
        "duration": 1903,
        "start_time": "2023-09-13T12:39:47.861Z"
      },
      {
        "duration": 5,
        "start_time": "2023-09-13T12:39:55.266Z"
      },
      {
        "duration": 76,
        "start_time": "2023-09-13T12:40:01.192Z"
      },
      {
        "duration": 3,
        "start_time": "2023-09-13T12:40:06.862Z"
      },
      {
        "duration": 4209,
        "start_time": "2023-09-13T12:40:38.339Z"
      },
      {
        "duration": 20889,
        "start_time": "2023-09-13T12:40:42.551Z"
      },
      {
        "duration": 2428,
        "start_time": "2023-09-13T12:41:03.441Z"
      },
      {
        "duration": 12,
        "start_time": "2023-09-13T12:41:05.871Z"
      },
      {
        "duration": 33,
        "start_time": "2023-09-13T12:41:05.885Z"
      },
      {
        "duration": 13,
        "start_time": "2023-09-13T12:41:05.920Z"
      },
      {
        "duration": 315,
        "start_time": "2023-09-13T12:41:05.935Z"
      },
      {
        "duration": 53046,
        "start_time": "2023-09-13T12:41:06.252Z"
      },
      {
        "duration": 12,
        "start_time": "2023-09-13T12:41:59.300Z"
      },
      {
        "duration": 32,
        "start_time": "2023-09-13T12:41:59.315Z"
      },
      {
        "duration": 24,
        "start_time": "2023-09-13T12:41:59.349Z"
      },
      {
        "duration": 1766,
        "start_time": "2023-09-13T12:41:59.374Z"
      },
      {
        "duration": 81,
        "start_time": "2023-09-13T12:42:01.142Z"
      },
      {
        "duration": 5,
        "start_time": "2023-09-13T12:42:01.224Z"
      },
      {
        "duration": 34,
        "start_time": "2023-09-13T12:42:01.231Z"
      },
      {
        "duration": 4193,
        "start_time": "2023-09-13T12:42:56.790Z"
      },
      {
        "duration": 22382,
        "start_time": "2023-09-13T12:43:00.985Z"
      },
      {
        "duration": 2575,
        "start_time": "2023-09-13T12:43:23.369Z"
      },
      {
        "duration": 14,
        "start_time": "2023-09-13T12:43:25.947Z"
      },
      {
        "duration": 45,
        "start_time": "2023-09-13T12:43:25.963Z"
      },
      {
        "duration": 23,
        "start_time": "2023-09-13T12:43:26.010Z"
      },
      {
        "duration": 313,
        "start_time": "2023-09-13T12:43:26.036Z"
      },
      {
        "duration": 52554,
        "start_time": "2023-09-13T12:43:26.350Z"
      },
      {
        "duration": 10,
        "start_time": "2023-09-13T12:44:18.906Z"
      },
      {
        "duration": 44,
        "start_time": "2023-09-13T12:44:18.919Z"
      },
      {
        "duration": 78,
        "start_time": "2023-09-13T12:44:18.965Z"
      },
      {
        "duration": 569,
        "start_time": "2023-09-13T12:44:19.045Z"
      },
      {
        "duration": 23,
        "start_time": "2023-09-13T12:44:19.615Z"
      },
      {
        "duration": 15,
        "start_time": "2023-09-13T12:44:19.651Z"
      },
      {
        "duration": 20,
        "start_time": "2023-09-13T12:44:19.667Z"
      },
      {
        "duration": 57960,
        "start_time": "2023-09-13T12:44:19.689Z"
      },
      {
        "duration": 0,
        "start_time": "2023-09-13T12:45:17.651Z"
      },
      {
        "duration": 0,
        "start_time": "2023-09-13T12:45:17.653Z"
      },
      {
        "duration": 0,
        "start_time": "2023-09-13T12:45:17.654Z"
      },
      {
        "duration": 0,
        "start_time": "2023-09-13T12:45:17.655Z"
      },
      {
        "duration": 0,
        "start_time": "2023-09-13T12:45:17.656Z"
      },
      {
        "duration": 636,
        "start_time": "2023-09-13T12:54:26.266Z"
      },
      {
        "duration": 2546,
        "start_time": "2023-09-13T12:54:37.311Z"
      },
      {
        "duration": 3629,
        "start_time": "2023-09-14T06:59:07.962Z"
      },
      {
        "duration": 3147,
        "start_time": "2023-09-14T06:59:11.593Z"
      },
      {
        "duration": 13,
        "start_time": "2023-09-14T06:59:14.742Z"
      },
      {
        "duration": 868,
        "start_time": "2023-09-14T06:59:14.757Z"
      },
      {
        "duration": 568,
        "start_time": "2023-09-14T06:59:15.627Z"
      },
      {
        "duration": 1762,
        "start_time": "2023-09-14T06:59:16.196Z"
      },
      {
        "duration": 48137,
        "start_time": "2023-09-14T06:59:17.959Z"
      },
      {
        "duration": 9,
        "start_time": "2023-09-14T07:00:06.097Z"
      },
      {
        "duration": 32,
        "start_time": "2023-09-14T07:00:06.109Z"
      },
      {
        "duration": 25,
        "start_time": "2023-09-14T07:00:06.144Z"
      },
      {
        "duration": 385,
        "start_time": "2023-09-14T07:00:06.170Z"
      },
      {
        "duration": 18,
        "start_time": "2023-09-14T07:00:06.557Z"
      },
      {
        "duration": 4,
        "start_time": "2023-09-14T07:00:15.446Z"
      },
      {
        "duration": 26294,
        "start_time": "2023-09-14T07:00:19.841Z"
      },
      {
        "duration": 7,
        "start_time": "2023-09-14T07:00:46.137Z"
      },
      {
        "duration": 2794,
        "start_time": "2023-09-14T07:32:30.467Z"
      },
      {
        "duration": 3136,
        "start_time": "2023-09-14T07:32:33.263Z"
      },
      {
        "duration": 12,
        "start_time": "2023-09-14T07:32:36.400Z"
      },
      {
        "duration": 52,
        "start_time": "2023-09-14T07:32:36.414Z"
      },
      {
        "duration": 28,
        "start_time": "2023-09-14T07:32:36.468Z"
      },
      {
        "duration": 1683,
        "start_time": "2023-09-14T07:32:36.498Z"
      },
      {
        "duration": 44449,
        "start_time": "2023-09-14T07:32:38.183Z"
      },
      {
        "duration": 13,
        "start_time": "2023-09-14T07:33:22.633Z"
      },
      {
        "duration": 32,
        "start_time": "2023-09-14T07:33:22.647Z"
      },
      {
        "duration": 22,
        "start_time": "2023-09-14T07:33:22.682Z"
      },
      {
        "duration": 591,
        "start_time": "2023-09-14T07:33:22.706Z"
      },
      {
        "duration": 17,
        "start_time": "2023-09-14T07:33:23.299Z"
      },
      {
        "duration": 4,
        "start_time": "2023-09-14T07:33:23.318Z"
      },
      {
        "duration": 101,
        "start_time": "2023-09-14T07:33:23.323Z"
      },
      {
        "duration": 0,
        "start_time": "2023-09-14T07:33:23.425Z"
      },
      {
        "duration": 0,
        "start_time": "2023-09-14T07:33:23.426Z"
      },
      {
        "duration": 0,
        "start_time": "2023-09-14T07:33:23.427Z"
      },
      {
        "duration": 3,
        "start_time": "2023-09-14T07:38:16.280Z"
      },
      {
        "duration": 3,
        "start_time": "2023-09-14T07:38:16.440Z"
      },
      {
        "duration": 15,
        "start_time": "2023-09-14T07:38:16.724Z"
      },
      {
        "duration": 2249,
        "start_time": "2023-09-14T07:38:17.504Z"
      },
      {
        "duration": 2514,
        "start_time": "2023-09-14T07:47:38.946Z"
      },
      {
        "duration": 842,
        "start_time": "2023-09-14T07:47:41.462Z"
      },
      {
        "duration": 14,
        "start_time": "2023-09-14T07:47:42.305Z"
      },
      {
        "duration": 42,
        "start_time": "2023-09-14T07:47:42.321Z"
      },
      {
        "duration": 8,
        "start_time": "2023-09-14T07:47:42.365Z"
      },
      {
        "duration": 1684,
        "start_time": "2023-09-14T07:47:42.375Z"
      },
      {
        "duration": 223733,
        "start_time": "2023-09-14T08:24:27.803Z"
      },
      {
        "duration": 13,
        "start_time": "2023-09-14T08:28:11.538Z"
      },
      {
        "duration": 74,
        "start_time": "2023-09-14T08:28:11.553Z"
      },
      {
        "duration": 85,
        "start_time": "2023-09-14T08:28:11.630Z"
      },
      {
        "duration": 2198,
        "start_time": "2023-09-14T08:28:11.717Z"
      },
      {
        "duration": 83,
        "start_time": "2023-09-14T08:28:13.917Z"
      },
      {
        "duration": 4,
        "start_time": "2023-09-14T08:28:14.002Z"
      },
      {
        "duration": 17,
        "start_time": "2023-09-14T08:28:14.007Z"
      },
      {
        "duration": 13,
        "start_time": "2023-09-14T08:28:14.026Z"
      },
      {
        "duration": 83,
        "start_time": "2023-09-14T08:28:14.041Z"
      },
      {
        "duration": 12919,
        "start_time": "2023-09-14T08:28:14.126Z"
      },
      {
        "duration": 13,
        "start_time": "2023-09-14T08:29:05.787Z"
      },
      {
        "duration": 121,
        "start_time": "2023-09-14T08:29:53.537Z"
      },
      {
        "duration": 278,
        "start_time": "2023-09-14T08:58:41.701Z"
      },
      {
        "duration": 5,
        "start_time": "2023-09-14T08:58:57.893Z"
      },
      {
        "duration": 3,
        "start_time": "2023-09-14T08:59:08.420Z"
      },
      {
        "duration": 3,
        "start_time": "2023-09-14T08:59:16.383Z"
      },
      {
        "duration": 3,
        "start_time": "2023-09-14T08:59:21.289Z"
      },
      {
        "duration": 48,
        "start_time": "2023-09-14T08:59:21.823Z"
      },
      {
        "duration": 4,
        "start_time": "2023-09-14T08:59:22.573Z"
      },
      {
        "duration": 214,
        "start_time": "2023-09-14T09:00:50.396Z"
      },
      {
        "duration": 222,
        "start_time": "2023-09-14T09:01:06.839Z"
      },
      {
        "duration": 66,
        "start_time": "2023-09-14T09:01:44.364Z"
      },
      {
        "duration": 16,
        "start_time": "2023-09-14T09:02:37.857Z"
      },
      {
        "duration": 193,
        "start_time": "2023-09-14T09:02:41.824Z"
      },
      {
        "duration": 140,
        "start_time": "2023-09-14T09:02:42.019Z"
      },
      {
        "duration": 6,
        "start_time": "2023-09-14T09:03:29.850Z"
      },
      {
        "duration": 7,
        "start_time": "2023-09-14T09:03:54.039Z"
      },
      {
        "duration": 7,
        "start_time": "2023-09-14T09:04:02.644Z"
      },
      {
        "duration": 5,
        "start_time": "2023-09-14T09:04:07.924Z"
      },
      {
        "duration": 11,
        "start_time": "2023-09-14T09:04:33.434Z"
      },
      {
        "duration": 18,
        "start_time": "2023-09-14T09:05:23.148Z"
      },
      {
        "duration": 20,
        "start_time": "2023-09-14T09:05:46.999Z"
      },
      {
        "duration": 4,
        "start_time": "2023-09-14T09:05:57.371Z"
      },
      {
        "duration": 118,
        "start_time": "2023-09-14T09:06:25.719Z"
      },
      {
        "duration": 119,
        "start_time": "2023-09-14T09:06:47.089Z"
      },
      {
        "duration": 120,
        "start_time": "2023-09-14T09:06:59.839Z"
      },
      {
        "duration": 6,
        "start_time": "2023-09-14T09:47:25.757Z"
      },
      {
        "duration": 8,
        "start_time": "2023-09-14T09:47:32.875Z"
      },
      {
        "duration": 18,
        "start_time": "2023-09-14T09:47:46.431Z"
      },
      {
        "duration": 37,
        "start_time": "2023-09-14T09:47:57.089Z"
      },
      {
        "duration": 24,
        "start_time": "2023-09-14T09:48:31.668Z"
      },
      {
        "duration": 24,
        "start_time": "2023-09-14T09:48:42.550Z"
      },
      {
        "duration": 6,
        "start_time": "2023-09-14T09:48:52.235Z"
      },
      {
        "duration": 7,
        "start_time": "2023-09-14T09:48:58.632Z"
      },
      {
        "duration": 40,
        "start_time": "2023-09-14T09:49:12.147Z"
      },
      {
        "duration": 8,
        "start_time": "2023-09-14T09:49:18.651Z"
      },
      {
        "duration": 18,
        "start_time": "2023-09-14T09:49:44.709Z"
      },
      {
        "duration": 19,
        "start_time": "2023-09-14T09:49:49.630Z"
      },
      {
        "duration": 8,
        "start_time": "2023-09-14T09:49:58.115Z"
      },
      {
        "duration": 39,
        "start_time": "2023-09-14T09:50:37.735Z"
      },
      {
        "duration": 10,
        "start_time": "2023-09-14T09:51:09.290Z"
      },
      {
        "duration": 8,
        "start_time": "2023-09-14T09:51:21.680Z"
      },
      {
        "duration": 9,
        "start_time": "2023-09-14T09:51:26.964Z"
      },
      {
        "duration": 9,
        "start_time": "2023-09-14T09:51:42.675Z"
      },
      {
        "duration": 47,
        "start_time": "2023-09-14T12:49:21.730Z"
      },
      {
        "duration": 2730,
        "start_time": "2023-09-14T12:49:27.058Z"
      },
      {
        "duration": 835,
        "start_time": "2023-09-14T12:49:29.791Z"
      },
      {
        "duration": 20,
        "start_time": "2023-09-14T12:49:30.628Z"
      },
      {
        "duration": 36,
        "start_time": "2023-09-14T12:49:30.650Z"
      },
      {
        "duration": 5,
        "start_time": "2023-09-14T12:50:44.993Z"
      },
      {
        "duration": 5,
        "start_time": "2023-09-14T12:56:25.544Z"
      },
      {
        "duration": 5,
        "start_time": "2023-09-14T12:56:40.515Z"
      },
      {
        "duration": 6,
        "start_time": "2023-09-14T13:11:09.239Z"
      },
      {
        "duration": 4,
        "start_time": "2023-09-14T13:11:20.691Z"
      },
      {
        "duration": 6,
        "start_time": "2023-09-14T13:11:26.295Z"
      },
      {
        "duration": 4,
        "start_time": "2023-09-14T13:11:33.631Z"
      },
      {
        "duration": 3,
        "start_time": "2023-09-14T13:11:41.786Z"
      },
      {
        "duration": 5,
        "start_time": "2023-09-14T13:12:01.778Z"
      },
      {
        "duration": 4,
        "start_time": "2023-09-14T13:12:14.533Z"
      },
      {
        "duration": 4,
        "start_time": "2023-09-14T13:12:29.491Z"
      },
      {
        "duration": 6,
        "start_time": "2023-09-14T13:12:34.738Z"
      },
      {
        "duration": 5,
        "start_time": "2023-09-14T13:12:47.409Z"
      },
      {
        "duration": 5,
        "start_time": "2023-09-14T13:13:01.731Z"
      },
      {
        "duration": 5,
        "start_time": "2023-09-14T13:13:10.511Z"
      },
      {
        "duration": 141,
        "start_time": "2023-09-14T13:14:50.560Z"
      },
      {
        "duration": 23,
        "start_time": "2023-09-14T13:14:57.665Z"
      },
      {
        "duration": 5,
        "start_time": "2023-09-14T13:15:05.435Z"
      },
      {
        "duration": 21,
        "start_time": "2023-09-14T13:15:30.739Z"
      },
      {
        "duration": 4,
        "start_time": "2023-09-14T13:16:39.071Z"
      },
      {
        "duration": 5,
        "start_time": "2023-09-14T13:17:02.827Z"
      },
      {
        "duration": 22,
        "start_time": "2023-09-14T13:17:18.907Z"
      },
      {
        "duration": 6,
        "start_time": "2023-09-14T13:17:24.818Z"
      },
      {
        "duration": 7,
        "start_time": "2023-09-14T13:17:37.572Z"
      },
      {
        "duration": 5,
        "start_time": "2023-09-14T13:20:01.514Z"
      },
      {
        "duration": 5,
        "start_time": "2023-09-14T13:20:07.618Z"
      },
      {
        "duration": 7,
        "start_time": "2023-09-14T13:23:44.119Z"
      },
      {
        "duration": 5,
        "start_time": "2023-09-14T13:24:10.245Z"
      },
      {
        "duration": 4,
        "start_time": "2023-09-14T13:34:32.803Z"
      },
      {
        "duration": 4,
        "start_time": "2023-09-14T13:34:53.301Z"
      },
      {
        "duration": 8,
        "start_time": "2023-09-14T13:34:59.872Z"
      },
      {
        "duration": 207,
        "start_time": "2023-09-14T13:35:05.660Z"
      },
      {
        "duration": 8,
        "start_time": "2023-09-14T13:35:13.472Z"
      },
      {
        "duration": 15,
        "start_time": "2023-09-14T13:35:34.226Z"
      },
      {
        "duration": 126,
        "start_time": "2023-09-14T13:36:40.601Z"
      },
      {
        "duration": 161,
        "start_time": "2023-09-14T13:36:52.314Z"
      },
      {
        "duration": 15,
        "start_time": "2023-09-14T13:36:59.881Z"
      },
      {
        "duration": 3,
        "start_time": "2023-09-14T13:37:06.500Z"
      },
      {
        "duration": 1295,
        "start_time": "2023-09-14T13:37:08.843Z"
      },
      {
        "duration": 1286,
        "start_time": "2023-09-14T13:37:17.596Z"
      },
      {
        "duration": 13,
        "start_time": "2023-09-14T13:37:29.682Z"
      },
      {
        "duration": 34,
        "start_time": "2023-09-14T13:37:42.741Z"
      },
      {
        "duration": 1397,
        "start_time": "2023-09-14T13:37:43.502Z"
      },
      {
        "duration": 6,
        "start_time": "2023-09-14T13:37:45.485Z"
      },
      {
        "duration": 741,
        "start_time": "2023-09-14T13:40:19.089Z"
      },
      {
        "duration": 4,
        "start_time": "2023-09-14T13:40:23.448Z"
      },
      {
        "duration": 3,
        "start_time": "2023-09-14T13:40:41.124Z"
      },
      {
        "duration": 474,
        "start_time": "2023-09-14T13:40:41.629Z"
      },
      {
        "duration": 536,
        "start_time": "2023-09-14T13:41:06.279Z"
      },
      {
        "duration": 541,
        "start_time": "2023-09-14T13:41:42.431Z"
      },
      {
        "duration": 7,
        "start_time": "2023-09-14T13:41:46.472Z"
      },
      {
        "duration": 537,
        "start_time": "2023-09-14T13:41:46.966Z"
      },
      {
        "duration": 461,
        "start_time": "2023-09-14T13:41:58.913Z"
      },
      {
        "duration": 30,
        "start_time": "2023-09-14T13:42:03.427Z"
      },
      {
        "duration": 5,
        "start_time": "2023-09-14T13:42:05.715Z"
      },
      {
        "duration": 3226,
        "start_time": "2023-09-14T13:42:18.154Z"
      },
      {
        "duration": 942,
        "start_time": "2023-09-14T13:42:21.387Z"
      },
      {
        "duration": 23,
        "start_time": "2023-09-14T13:42:22.333Z"
      },
      {
        "duration": 22,
        "start_time": "2023-09-14T13:42:22.357Z"
      },
      {
        "duration": 35,
        "start_time": "2023-09-14T13:42:25.720Z"
      },
      {
        "duration": 4,
        "start_time": "2023-09-14T13:42:34.760Z"
      },
      {
        "duration": 8,
        "start_time": "2023-09-14T13:42:37.389Z"
      },
      {
        "duration": 1271,
        "start_time": "2023-09-14T13:42:40.392Z"
      },
      {
        "duration": 4,
        "start_time": "2023-09-14T13:42:46.076Z"
      },
      {
        "duration": 6,
        "start_time": "2023-09-14T13:42:50.680Z"
      },
      {
        "duration": 5,
        "start_time": "2023-09-14T13:42:51.623Z"
      },
      {
        "duration": 898,
        "start_time": "2023-09-14T13:43:07.275Z"
      },
      {
        "duration": 9,
        "start_time": "2023-09-14T13:43:08.177Z"
      },
      {
        "duration": 4,
        "start_time": "2023-09-14T13:43:08.225Z"
      },
      {
        "duration": 31,
        "start_time": "2023-09-14T13:43:09.710Z"
      },
      {
        "duration": 3,
        "start_time": "2023-09-14T13:43:10.795Z"
      },
      {
        "duration": 5,
        "start_time": "2023-09-14T13:43:11.715Z"
      },
      {
        "duration": 763,
        "start_time": "2023-09-14T13:43:14.779Z"
      },
      {
        "duration": 1371,
        "start_time": "2023-09-14T13:43:26.701Z"
      },
      {
        "duration": 7,
        "start_time": "2023-09-14T13:43:31.924Z"
      },
      {
        "duration": 7,
        "start_time": "2023-09-14T13:43:44.477Z"
      },
      {
        "duration": 957,
        "start_time": "2023-09-14T13:43:44.839Z"
      },
      {
        "duration": 8,
        "start_time": "2023-09-14T13:43:45.797Z"
      },
      {
        "duration": 5,
        "start_time": "2023-09-14T13:43:45.820Z"
      },
      {
        "duration": 36,
        "start_time": "2023-09-14T13:43:46.115Z"
      },
      {
        "duration": 3,
        "start_time": "2023-09-14T13:43:47.023Z"
      },
      {
        "duration": 8,
        "start_time": "2023-09-14T13:43:48.512Z"
      },
      {
        "duration": 490,
        "start_time": "2023-09-14T13:43:50.941Z"
      },
      {
        "duration": 503,
        "start_time": "2023-09-14T13:48:01.965Z"
      },
      {
        "duration": 1519,
        "start_time": "2023-09-14T13:48:17.915Z"
      },
      {
        "duration": 5,
        "start_time": "2023-09-14T13:48:22.869Z"
      },
      {
        "duration": 2134,
        "start_time": "2023-09-14T13:48:39.709Z"
      },
      {
        "duration": 312759,
        "start_time": "2023-09-14T13:48:41.851Z"
      },
      {
        "duration": 16,
        "start_time": "2023-09-14T13:53:54.613Z"
      },
      {
        "duration": 424,
        "start_time": "2023-09-14T13:53:54.631Z"
      },
      {
        "duration": 37,
        "start_time": "2023-09-14T13:55:44.826Z"
      },
      {
        "duration": 242,
        "start_time": "2023-09-14T13:55:49.524Z"
      },
      {
        "duration": 145,
        "start_time": "2023-09-14T13:59:03.582Z"
      },
      {
        "duration": 5,
        "start_time": "2023-09-14T13:59:16.226Z"
      },
      {
        "duration": 5,
        "start_time": "2023-09-14T14:04:16.184Z"
      },
      {
        "duration": 5,
        "start_time": "2023-09-14T14:14:55.906Z"
      },
      {
        "duration": 5,
        "start_time": "2023-09-14T14:15:06.675Z"
      },
      {
        "duration": 3077,
        "start_time": "2023-09-15T08:00:25.279Z"
      },
      {
        "duration": 2475,
        "start_time": "2023-09-15T08:00:28.358Z"
      },
      {
        "duration": 15,
        "start_time": "2023-09-15T08:00:30.834Z"
      },
      {
        "duration": 48,
        "start_time": "2023-09-17T08:52:05.397Z"
      },
      {
        "duration": 6052,
        "start_time": "2023-09-17T08:52:12.017Z"
      },
      {
        "duration": 2572,
        "start_time": "2023-09-17T08:52:18.071Z"
      },
      {
        "duration": 12,
        "start_time": "2023-09-17T08:52:20.644Z"
      },
      {
        "duration": 8,
        "start_time": "2023-09-17T08:52:20.658Z"
      },
      {
        "duration": 39,
        "start_time": "2023-09-17T08:52:20.667Z"
      },
      {
        "duration": 34,
        "start_time": "2023-09-17T08:52:20.708Z"
      },
      {
        "duration": 747,
        "start_time": "2023-09-17T08:52:20.744Z"
      },
      {
        "duration": 43870,
        "start_time": "2023-09-17T08:52:21.492Z"
      },
      {
        "duration": 180,
        "start_time": "2023-09-17T09:00:56.696Z"
      },
      {
        "duration": 1118,
        "start_time": "2023-09-17T09:02:45.200Z"
      },
      {
        "duration": 18,
        "start_time": "2023-09-17T09:02:46.322Z"
      },
      {
        "duration": 18,
        "start_time": "2023-09-17T09:02:46.350Z"
      },
      {
        "duration": 50,
        "start_time": "2023-09-17T09:02:46.601Z"
      },
      {
        "duration": 22,
        "start_time": "2023-09-17T09:02:48.462Z"
      },
      {
        "duration": 860,
        "start_time": "2023-09-17T09:02:51.012Z"
      },
      {
        "duration": 95,
        "start_time": "2023-09-17T09:02:51.874Z"
      },
      {
        "duration": 46426,
        "start_time": "2023-09-17T09:52:07.053Z"
      },
      {
        "duration": 564,
        "start_time": "2023-09-17T09:55:19.947Z"
      },
      {
        "duration": 62,
        "start_time": "2023-09-17T09:55:28.182Z"
      },
      {
        "duration": 18,
        "start_time": "2023-09-17T09:55:34.785Z"
      },
      {
        "duration": 851,
        "start_time": "2023-09-17T09:55:35.293Z"
      },
      {
        "duration": 43952,
        "start_time": "2023-09-17T09:55:36.146Z"
      },
      {
        "duration": 1109,
        "start_time": "2023-09-17T10:07:10.194Z"
      },
      {
        "duration": 63,
        "start_time": "2023-09-17T10:07:18.306Z"
      },
      {
        "duration": 17,
        "start_time": "2023-09-17T10:07:19.389Z"
      },
      {
        "duration": 782,
        "start_time": "2023-09-17T10:07:20.590Z"
      },
      {
        "duration": 1154,
        "start_time": "2023-09-17T10:07:21.518Z"
      },
      {
        "duration": 45216,
        "start_time": "2023-09-17T10:08:13.788Z"
      },
      {
        "duration": 73,
        "start_time": "2023-09-17T10:18:36.791Z"
      },
      {
        "duration": 26,
        "start_time": "2023-09-17T10:18:38.526Z"
      },
      {
        "duration": 766,
        "start_time": "2023-09-17T10:18:39.271Z"
      },
      {
        "duration": 1356,
        "start_time": "2023-09-17T10:18:41.442Z"
      },
      {
        "duration": 1365,
        "start_time": "2023-09-17T10:18:53.879Z"
      },
      {
        "duration": 1312,
        "start_time": "2023-09-17T10:19:07.471Z"
      },
      {
        "duration": 2,
        "start_time": "2023-09-17T10:19:28.044Z"
      },
      {
        "duration": 1274,
        "start_time": "2023-09-17T10:19:28.535Z"
      },
      {
        "duration": 13,
        "start_time": "2023-09-17T10:19:29.812Z"
      },
      {
        "duration": 4740,
        "start_time": "2023-09-17T11:05:06.254Z"
      },
      {
        "duration": 4,
        "start_time": "2023-09-17T11:05:39.783Z"
      },
      {
        "duration": 166,
        "start_time": "2023-09-17T11:10:51.405Z"
      },
      {
        "duration": 4,
        "start_time": "2023-09-17T11:11:06.585Z"
      },
      {
        "duration": 4150,
        "start_time": "2023-09-17T11:11:23.097Z"
      },
      {
        "duration": 7283,
        "start_time": "2023-09-17T11:12:04.547Z"
      },
      {
        "duration": 3405,
        "start_time": "2023-09-18T10:28:57.811Z"
      },
      {
        "duration": 3155,
        "start_time": "2023-09-18T10:29:01.223Z"
      },
      {
        "duration": 14,
        "start_time": "2023-09-18T10:29:04.381Z"
      },
      {
        "duration": 6,
        "start_time": "2023-09-18T10:30:15.837Z"
      },
      {
        "duration": 47,
        "start_time": "2023-09-18T10:30:19.688Z"
      },
      {
        "duration": 20,
        "start_time": "2023-09-18T10:30:35.223Z"
      },
      {
        "duration": 4,
        "start_time": "2023-09-18T10:35:52.153Z"
      },
      {
        "duration": 13828,
        "start_time": "2023-09-18T10:38:12.487Z"
      },
      {
        "duration": 1913,
        "start_time": "2023-09-18T10:39:09.009Z"
      },
      {
        "duration": 1800,
        "start_time": "2023-09-18T10:39:15.823Z"
      },
      {
        "duration": 2931,
        "start_time": "2023-09-18T11:34:14.538Z"
      },
      {
        "duration": 1016,
        "start_time": "2023-09-18T11:34:18.462Z"
      },
      {
        "duration": 341,
        "start_time": "2023-09-18T11:34:31.662Z"
      },
      {
        "duration": 6199,
        "start_time": "2023-09-18T11:34:33.119Z"
      },
      {
        "duration": 292,
        "start_time": "2023-09-18T11:35:40.066Z"
      },
      {
        "duration": 277989,
        "start_time": "2023-09-18T11:35:49.339Z"
      },
      {
        "duration": 8,
        "start_time": "2023-09-18T11:41:24.678Z"
      },
      {
        "duration": 8,
        "start_time": "2023-09-18T11:41:26.331Z"
      },
      {
        "duration": 8,
        "start_time": "2023-09-18T11:43:13.468Z"
      },
      {
        "duration": 375,
        "start_time": "2023-09-18T11:43:14.662Z"
      },
      {
        "duration": 6,
        "start_time": "2023-09-18T11:43:24.382Z"
      },
      {
        "duration": 389,
        "start_time": "2023-09-18T11:50:59.732Z"
      },
      {
        "duration": 5,
        "start_time": "2023-09-18T11:51:30.324Z"
      },
      {
        "duration": 389,
        "start_time": "2023-09-18T11:51:35.592Z"
      },
      {
        "duration": 5,
        "start_time": "2023-09-18T11:51:41.032Z"
      },
      {
        "duration": 33,
        "start_time": "2023-09-18T11:53:57.898Z"
      },
      {
        "duration": 1408,
        "start_time": "2023-09-18T11:56:00.867Z"
      },
      {
        "duration": 5,
        "start_time": "2023-09-18T11:56:05.692Z"
      },
      {
        "duration": 4345,
        "start_time": "2023-09-18T11:56:44.597Z"
      },
      {
        "duration": 278184,
        "start_time": "2023-09-18T11:56:48.945Z"
      },
      {
        "duration": 5,
        "start_time": "2023-09-18T12:01:27.132Z"
      },
      {
        "duration": 4,
        "start_time": "2023-09-18T12:02:13.377Z"
      },
      {
        "duration": 5,
        "start_time": "2023-09-18T12:02:33.997Z"
      },
      {
        "duration": 90,
        "start_time": "2023-09-18T12:15:47.573Z"
      },
      {
        "duration": 121,
        "start_time": "2023-09-18T12:21:05.838Z"
      },
      {
        "duration": 3379,
        "start_time": "2023-09-18T12:21:17.825Z"
      },
      {
        "duration": 92,
        "start_time": "2023-09-18T12:22:54.572Z"
      },
      {
        "duration": 2890,
        "start_time": "2023-09-18T12:26:33.639Z"
      },
      {
        "duration": 2775,
        "start_time": "2023-09-18T12:26:37.027Z"
      },
      {
        "duration": 15,
        "start_time": "2023-09-18T12:27:09.582Z"
      },
      {
        "duration": 358,
        "start_time": "2023-09-18T12:27:15.268Z"
      },
      {
        "duration": 1361,
        "start_time": "2023-09-18T12:27:16.724Z"
      },
      {
        "duration": 10496,
        "start_time": "2023-09-18T12:27:18.126Z"
      },
      {
        "duration": 265569,
        "start_time": "2023-09-18T12:27:28.625Z"
      },
      {
        "duration": 18,
        "start_time": "2023-09-18T12:31:54.196Z"
      },
      {
        "duration": 16,
        "start_time": "2023-09-18T12:31:54.221Z"
      },
      {
        "duration": 10,
        "start_time": "2023-09-18T12:31:54.240Z"
      },
      {
        "duration": 20,
        "start_time": "2023-09-18T12:31:54.251Z"
      },
      {
        "duration": 3462,
        "start_time": "2023-09-18T12:31:54.273Z"
      },
      {
        "duration": 98,
        "start_time": "2023-09-18T12:31:57.737Z"
      },
      {
        "duration": 3343,
        "start_time": "2023-09-18T12:33:22.765Z"
      },
      {
        "duration": 2796,
        "start_time": "2023-09-18T12:33:26.112Z"
      },
      {
        "duration": 1544,
        "start_time": "2023-09-18T12:33:46.867Z"
      },
      {
        "duration": 10765,
        "start_time": "2023-09-18T12:33:50.152Z"
      },
      {
        "duration": 1027,
        "start_time": "2023-09-18T12:34:00.929Z"
      },
      {
        "duration": 0,
        "start_time": "2023-09-18T12:34:01.958Z"
      },
      {
        "duration": 0,
        "start_time": "2023-09-18T12:34:01.959Z"
      },
      {
        "duration": 0,
        "start_time": "2023-09-18T12:34:01.960Z"
      },
      {
        "duration": 0,
        "start_time": "2023-09-18T12:34:01.961Z"
      },
      {
        "duration": 0,
        "start_time": "2023-09-18T12:34:01.963Z"
      },
      {
        "duration": 0,
        "start_time": "2023-09-18T12:34:01.964Z"
      },
      {
        "duration": 0,
        "start_time": "2023-09-18T12:34:01.965Z"
      },
      {
        "duration": 1080,
        "start_time": "2023-09-18T12:35:18.903Z"
      },
      {
        "duration": 198,
        "start_time": "2023-09-18T12:35:35.792Z"
      },
      {
        "duration": 789,
        "start_time": "2023-09-18T12:35:45.909Z"
      },
      {
        "duration": 0,
        "start_time": "2023-09-18T12:35:46.700Z"
      },
      {
        "duration": 559,
        "start_time": "2023-09-18T12:35:47.108Z"
      },
      {
        "duration": 3690,
        "start_time": "2023-09-18T12:36:15.431Z"
      },
      {
        "duration": 1072,
        "start_time": "2023-09-18T12:36:19.123Z"
      },
      {
        "duration": 349,
        "start_time": "2023-09-18T12:36:38.728Z"
      },
      {
        "duration": 1496,
        "start_time": "2023-09-18T12:36:39.358Z"
      },
      {
        "duration": 6890,
        "start_time": "2023-09-18T12:36:41.353Z"
      },
      {
        "duration": 1025,
        "start_time": "2023-09-18T12:36:48.247Z"
      },
      {
        "duration": 29,
        "start_time": "2023-09-18T12:37:17.779Z"
      },
      {
        "duration": 1024,
        "start_time": "2023-09-18T12:37:35.848Z"
      },
      {
        "duration": 347,
        "start_time": "2023-09-18T12:37:49.357Z"
      },
      {
        "duration": 35,
        "start_time": "2023-09-18T12:38:00.978Z"
      },
      {
        "duration": 1322,
        "start_time": "2023-09-18T12:38:06.403Z"
      },
      {
        "duration": 49,
        "start_time": "2023-09-18T12:38:09.593Z"
      },
      {
        "duration": 1102,
        "start_time": "2023-09-18T12:39:08.794Z"
      },
      {
        "duration": 31,
        "start_time": "2023-09-18T12:39:16.163Z"
      },
      {
        "duration": 37,
        "start_time": "2023-09-18T12:39:25.007Z"
      },
      {
        "duration": 186,
        "start_time": "2023-09-18T12:39:26.234Z"
      },
      {
        "duration": 580,
        "start_time": "2023-09-18T12:39:34.259Z"
      },
      {
        "duration": 4707,
        "start_time": "2023-09-18T12:39:34.841Z"
      },
      {
        "duration": 117719,
        "start_time": "2023-09-18T12:39:39.551Z"
      },
      {
        "duration": 1710,
        "start_time": "2023-09-18T12:41:37.273Z"
      },
      {
        "duration": 0,
        "start_time": "2023-09-18T12:41:38.986Z"
      },
      {
        "duration": 0,
        "start_time": "2023-09-18T12:41:38.988Z"
      },
      {
        "duration": 0,
        "start_time": "2023-09-18T12:41:38.989Z"
      },
      {
        "duration": 0,
        "start_time": "2023-09-18T12:41:38.991Z"
      },
      {
        "duration": 0,
        "start_time": "2023-09-18T12:41:38.992Z"
      },
      {
        "duration": 0,
        "start_time": "2023-09-18T12:41:38.993Z"
      },
      {
        "duration": 31,
        "start_time": "2023-09-18T12:44:34.100Z"
      },
      {
        "duration": 1189,
        "start_time": "2023-09-18T13:00:55.405Z"
      },
      {
        "duration": 34,
        "start_time": "2023-09-18T13:00:56.596Z"
      },
      {
        "duration": 54,
        "start_time": "2023-09-18T13:07:10.227Z"
      },
      {
        "duration": 3427,
        "start_time": "2023-09-18T13:07:16.665Z"
      },
      {
        "duration": 2743,
        "start_time": "2023-09-18T13:07:20.094Z"
      },
      {
        "duration": 22,
        "start_time": "2023-09-18T13:07:24.374Z"
      },
      {
        "duration": 92,
        "start_time": "2023-09-18T13:07:24.876Z"
      },
      {
        "duration": 278,
        "start_time": "2023-09-18T13:07:25.225Z"
      },
      {
        "duration": 10096,
        "start_time": "2023-09-18T13:07:25.627Z"
      },
      {
        "duration": 52501,
        "start_time": "2023-09-18T13:07:35.727Z"
      },
      {
        "duration": 521,
        "start_time": "2023-09-18T13:08:28.230Z"
      },
      {
        "duration": 12,
        "start_time": "2023-09-18T13:08:28.754Z"
      },
      {
        "duration": 324,
        "start_time": "2023-09-18T13:08:28.769Z"
      },
      {
        "duration": 0,
        "start_time": "2023-09-18T13:08:29.095Z"
      },
      {
        "duration": 0,
        "start_time": "2023-09-18T13:08:29.097Z"
      },
      {
        "duration": 0,
        "start_time": "2023-09-18T13:08:29.099Z"
      },
      {
        "duration": 0,
        "start_time": "2023-09-18T13:08:29.100Z"
      },
      {
        "duration": 0,
        "start_time": "2023-09-18T13:08:29.112Z"
      },
      {
        "duration": 4027,
        "start_time": "2023-09-19T07:12:32.294Z"
      },
      {
        "duration": 2634,
        "start_time": "2023-09-19T07:12:36.323Z"
      },
      {
        "duration": 14,
        "start_time": "2023-09-19T07:12:38.959Z"
      },
      {
        "duration": 32,
        "start_time": "2023-09-19T07:12:49.554Z"
      },
      {
        "duration": 19,
        "start_time": "2023-09-19T07:14:48.690Z"
      },
      {
        "duration": 5,
        "start_time": "2023-09-19T07:33:33.291Z"
      },
      {
        "duration": 5,
        "start_time": "2023-09-19T07:52:41.739Z"
      },
      {
        "duration": 7,
        "start_time": "2023-09-19T07:52:50.337Z"
      },
      {
        "duration": 5,
        "start_time": "2023-09-19T07:53:19.013Z"
      },
      {
        "duration": 5,
        "start_time": "2023-09-19T07:53:42.798Z"
      },
      {
        "duration": 6,
        "start_time": "2023-09-19T07:53:51.724Z"
      },
      {
        "duration": 5,
        "start_time": "2023-09-19T07:54:02.843Z"
      },
      {
        "duration": 5,
        "start_time": "2023-09-19T08:06:17.512Z"
      },
      {
        "duration": 11,
        "start_time": "2023-09-19T08:08:55.019Z"
      },
      {
        "duration": 6,
        "start_time": "2023-09-19T08:19:46.382Z"
      },
      {
        "duration": 3619,
        "start_time": "2023-09-19T08:23:01.740Z"
      },
      {
        "duration": 1891,
        "start_time": "2023-09-19T08:23:05.361Z"
      },
      {
        "duration": 18,
        "start_time": "2023-09-19T08:23:07.254Z"
      },
      {
        "duration": 243,
        "start_time": "2023-09-19T08:23:07.275Z"
      },
      {
        "duration": 126,
        "start_time": "2023-09-19T08:23:07.520Z"
      },
      {
        "duration": 35,
        "start_time": "2023-09-19T08:23:07.648Z"
      },
      {
        "duration": 45,
        "start_time": "2023-09-19T08:23:07.685Z"
      },
      {
        "duration": 179,
        "start_time": "2023-09-19T08:29:07.922Z"
      },
      {
        "duration": 13,
        "start_time": "2023-09-19T08:29:47.341Z"
      },
      {
        "duration": 58,
        "start_time": "2023-09-19T08:30:00.882Z"
      },
      {
        "duration": 1075,
        "start_time": "2023-09-19T08:30:02.066Z"
      },
      {
        "duration": 7,
        "start_time": "2023-09-19T08:30:28.310Z"
      },
      {
        "duration": 12,
        "start_time": "2023-09-19T08:30:41.922Z"
      },
      {
        "duration": 7,
        "start_time": "2023-09-19T08:30:46.891Z"
      },
      {
        "duration": 7,
        "start_time": "2023-09-19T08:36:40.139Z"
      },
      {
        "duration": 5,
        "start_time": "2023-09-19T08:41:16.998Z"
      },
      {
        "duration": 9,
        "start_time": "2023-09-19T08:42:32.270Z"
      },
      {
        "duration": 7,
        "start_time": "2023-09-19T08:44:01.984Z"
      },
      {
        "duration": 5,
        "start_time": "2023-09-19T08:44:34.695Z"
      },
      {
        "duration": 265,
        "start_time": "2023-09-19T08:51:09.846Z"
      },
      {
        "duration": 2,
        "start_time": "2023-09-19T08:51:21.013Z"
      },
      {
        "duration": 1528,
        "start_time": "2023-09-19T08:52:35.768Z"
      },
      {
        "duration": 44,
        "start_time": "2023-09-19T08:54:46.353Z"
      },
      {
        "duration": 6,
        "start_time": "2023-09-19T08:55:12.434Z"
      },
      {
        "duration": 4,
        "start_time": "2023-09-19T08:55:17.248Z"
      },
      {
        "duration": 6,
        "start_time": "2023-09-19T08:55:46.938Z"
      },
      {
        "duration": 5,
        "start_time": "2023-09-19T09:31:13.187Z"
      },
      {
        "duration": 23,
        "start_time": "2023-09-19T09:34:21.228Z"
      },
      {
        "duration": 6,
        "start_time": "2023-09-19T09:34:35.430Z"
      },
      {
        "duration": 29,
        "start_time": "2023-09-19T09:40:45.827Z"
      },
      {
        "duration": 2016,
        "start_time": "2023-09-19T09:41:24.963Z"
      },
      {
        "duration": 8,
        "start_time": "2023-09-19T09:41:33.584Z"
      },
      {
        "duration": 22,
        "start_time": "2023-09-19T09:41:38.910Z"
      },
      {
        "duration": 2759,
        "start_time": "2023-09-19T09:42:01.620Z"
      },
      {
        "duration": 7,
        "start_time": "2023-09-19T09:42:05.367Z"
      },
      {
        "duration": 34,
        "start_time": "2023-09-19T09:42:10.066Z"
      },
      {
        "duration": 1647,
        "start_time": "2023-09-19T09:45:15.876Z"
      },
      {
        "duration": 13,
        "start_time": "2023-09-19T09:45:17.526Z"
      },
      {
        "duration": 1463,
        "start_time": "2023-09-19T09:45:22.312Z"
      },
      {
        "duration": 7,
        "start_time": "2023-09-19T09:45:25.433Z"
      },
      {
        "duration": 4173,
        "start_time": "2023-09-19T09:45:34.872Z"
      },
      {
        "duration": 0,
        "start_time": "2023-09-19T09:52:21.361Z"
      },
      {
        "duration": 0,
        "start_time": "2023-09-19T09:52:21.362Z"
      },
      {
        "duration": 0,
        "start_time": "2023-09-19T09:52:21.363Z"
      },
      {
        "duration": 0,
        "start_time": "2023-09-19T09:52:21.365Z"
      },
      {
        "duration": 0,
        "start_time": "2023-09-19T09:52:21.366Z"
      },
      {
        "duration": 0,
        "start_time": "2023-09-19T09:52:21.367Z"
      },
      {
        "duration": 0,
        "start_time": "2023-09-19T09:52:21.369Z"
      },
      {
        "duration": 0,
        "start_time": "2023-09-19T09:52:21.370Z"
      },
      {
        "duration": 0,
        "start_time": "2023-09-19T09:52:21.372Z"
      },
      {
        "duration": 0,
        "start_time": "2023-09-19T09:52:21.373Z"
      },
      {
        "duration": 0,
        "start_time": "2023-09-19T09:52:21.374Z"
      },
      {
        "duration": 0,
        "start_time": "2023-09-19T09:52:21.375Z"
      },
      {
        "duration": 0,
        "start_time": "2023-09-19T09:52:21.377Z"
      },
      {
        "duration": 0,
        "start_time": "2023-09-19T09:52:21.378Z"
      },
      {
        "duration": 0,
        "start_time": "2023-09-19T09:52:21.379Z"
      },
      {
        "duration": 0,
        "start_time": "2023-09-19T09:52:21.381Z"
      },
      {
        "duration": 0,
        "start_time": "2023-09-19T09:52:21.382Z"
      },
      {
        "duration": 0,
        "start_time": "2023-09-19T09:52:21.383Z"
      },
      {
        "duration": 0,
        "start_time": "2023-09-19T09:52:21.385Z"
      },
      {
        "duration": 0,
        "start_time": "2023-09-19T09:52:21.387Z"
      },
      {
        "duration": 1,
        "start_time": "2023-09-19T09:52:21.388Z"
      },
      {
        "duration": 0,
        "start_time": "2023-09-19T09:52:21.390Z"
      },
      {
        "duration": 0,
        "start_time": "2023-09-19T09:52:21.424Z"
      },
      {
        "duration": 0,
        "start_time": "2023-09-19T09:52:21.425Z"
      },
      {
        "duration": 1,
        "start_time": "2023-09-19T09:52:21.425Z"
      },
      {
        "duration": 0,
        "start_time": "2023-09-19T09:52:21.436Z"
      },
      {
        "duration": 0,
        "start_time": "2023-09-19T09:52:21.437Z"
      },
      {
        "duration": 0,
        "start_time": "2023-09-19T09:52:21.438Z"
      },
      {
        "duration": 0,
        "start_time": "2023-09-19T09:52:21.439Z"
      },
      {
        "duration": 0,
        "start_time": "2023-09-19T09:52:21.440Z"
      },
      {
        "duration": 0,
        "start_time": "2023-09-19T09:52:21.443Z"
      },
      {
        "duration": 0,
        "start_time": "2023-09-19T09:52:21.445Z"
      },
      {
        "duration": 0,
        "start_time": "2023-09-19T09:52:21.447Z"
      },
      {
        "duration": 0,
        "start_time": "2023-09-19T09:52:21.448Z"
      },
      {
        "duration": 0,
        "start_time": "2023-09-19T09:52:21.453Z"
      },
      {
        "duration": 0,
        "start_time": "2023-09-19T09:52:21.455Z"
      },
      {
        "duration": 0,
        "start_time": "2023-09-19T09:52:21.456Z"
      },
      {
        "duration": 0,
        "start_time": "2023-09-19T09:52:21.459Z"
      },
      {
        "duration": 0,
        "start_time": "2023-09-19T09:52:21.460Z"
      },
      {
        "duration": 0,
        "start_time": "2023-09-19T09:52:21.462Z"
      },
      {
        "duration": 0,
        "start_time": "2023-09-19T09:52:21.463Z"
      },
      {
        "duration": 0,
        "start_time": "2023-09-19T09:52:21.464Z"
      },
      {
        "duration": 0,
        "start_time": "2023-09-19T09:52:21.465Z"
      },
      {
        "duration": 0,
        "start_time": "2023-09-19T09:52:21.466Z"
      },
      {
        "duration": 0,
        "start_time": "2023-09-19T09:52:21.468Z"
      },
      {
        "duration": 0,
        "start_time": "2023-09-19T09:52:21.469Z"
      },
      {
        "duration": 0,
        "start_time": "2023-09-19T09:52:21.469Z"
      },
      {
        "duration": 0,
        "start_time": "2023-09-19T09:52:21.471Z"
      },
      {
        "duration": 0,
        "start_time": "2023-09-19T09:52:21.472Z"
      },
      {
        "duration": 0,
        "start_time": "2023-09-19T09:52:21.473Z"
      },
      {
        "duration": 0,
        "start_time": "2023-09-19T09:52:21.474Z"
      },
      {
        "duration": 9301,
        "start_time": "2023-09-19T09:52:25.318Z"
      },
      {
        "duration": 2984,
        "start_time": "2023-09-19T09:52:34.622Z"
      },
      {
        "duration": 14,
        "start_time": "2023-09-19T09:52:37.608Z"
      },
      {
        "duration": 33,
        "start_time": "2023-09-19T09:52:42.393Z"
      },
      {
        "duration": 15,
        "start_time": "2023-09-19T09:52:43.553Z"
      },
      {
        "duration": 3,
        "start_time": "2023-09-19T09:52:47.787Z"
      },
      {
        "duration": 88,
        "start_time": "2023-09-19T10:01:19.650Z"
      },
      {
        "duration": 3613,
        "start_time": "2023-09-19T10:01:23.469Z"
      },
      {
        "duration": 7,
        "start_time": "2023-09-19T10:03:19.943Z"
      },
      {
        "duration": 2120,
        "start_time": "2023-09-19T10:03:29.044Z"
      },
      {
        "duration": 2410,
        "start_time": "2023-09-19T10:04:40.007Z"
      },
      {
        "duration": 3,
        "start_time": "2023-09-19T10:06:51.568Z"
      },
      {
        "duration": 20,
        "start_time": "2023-09-19T10:06:57.255Z"
      },
      {
        "duration": 2225,
        "start_time": "2023-09-19T10:07:04.944Z"
      },
      {
        "duration": 2229,
        "start_time": "2023-09-19T10:07:41.057Z"
      },
      {
        "duration": 2200,
        "start_time": "2023-09-19T10:07:56.788Z"
      },
      {
        "duration": 87,
        "start_time": "2023-09-19T10:08:22.011Z"
      },
      {
        "duration": 10,
        "start_time": "2023-09-19T10:08:37.446Z"
      },
      {
        "duration": 2682,
        "start_time": "2023-09-19T10:08:46.104Z"
      },
      {
        "duration": 6,
        "start_time": "2023-09-19T10:09:01.776Z"
      },
      {
        "duration": 15153,
        "start_time": "2023-09-19T10:10:50.687Z"
      },
      {
        "duration": 1667,
        "start_time": "2023-09-19T10:17:40.087Z"
      },
      {
        "duration": 18,
        "start_time": "2023-09-19T10:17:41.758Z"
      },
      {
        "duration": 4,
        "start_time": "2023-09-19T10:18:13.382Z"
      },
      {
        "duration": 41,
        "start_time": "2023-09-19T10:18:14.453Z"
      },
      {
        "duration": 3450,
        "start_time": "2023-09-19T10:18:40.098Z"
      },
      {
        "duration": 13,
        "start_time": "2023-09-19T10:23:27.215Z"
      },
      {
        "duration": 3118,
        "start_time": "2023-09-19T10:23:39.385Z"
      },
      {
        "duration": 9356,
        "start_time": "2023-09-19T10:24:00.542Z"
      },
      {
        "duration": 3,
        "start_time": "2023-09-19T10:24:09.901Z"
      },
      {
        "duration": 3613,
        "start_time": "2023-09-19T10:24:09.905Z"
      },
      {
        "duration": 24,
        "start_time": "2023-09-19T10:24:13.521Z"
      },
      {
        "duration": 99,
        "start_time": "2023-09-19T10:24:13.550Z"
      },
      {
        "duration": 22,
        "start_time": "2023-09-19T10:24:13.652Z"
      },
      {
        "duration": 3,
        "start_time": "2023-09-19T10:24:13.676Z"
      },
      {
        "duration": 1537,
        "start_time": "2023-09-19T10:24:13.681Z"
      },
      {
        "duration": 5,
        "start_time": "2023-09-19T10:24:28.542Z"
      },
      {
        "duration": 26,
        "start_time": "2023-09-19T10:24:30.045Z"
      },
      {
        "duration": 3200,
        "start_time": "2023-09-19T10:24:43.001Z"
      },
      {
        "duration": 39775,
        "start_time": "2023-09-19T10:25:29.801Z"
      },
      {
        "duration": 4064,
        "start_time": "2023-09-19T10:28:55.005Z"
      },
      {
        "duration": 42497,
        "start_time": "2023-09-19T10:29:53.409Z"
      },
      {
        "duration": 19,
        "start_time": "2023-09-19T10:31:03.215Z"
      },
      {
        "duration": 16,
        "start_time": "2023-09-19T10:34:06.930Z"
      },
      {
        "duration": 207,
        "start_time": "2023-09-19T10:34:51.288Z"
      },
      {
        "duration": 383,
        "start_time": "2023-09-19T10:44:02.199Z"
      },
      {
        "duration": 14,
        "start_time": "2023-09-19T10:56:29.484Z"
      },
      {
        "duration": 115,
        "start_time": "2023-09-19T10:56:58.998Z"
      },
      {
        "duration": 4,
        "start_time": "2023-09-19T10:57:10.262Z"
      },
      {
        "duration": 212812,
        "start_time": "2023-09-19T10:57:17.218Z"
      },
      {
        "duration": 15,
        "start_time": "2023-09-19T11:06:23.695Z"
      },
      {
        "duration": 4,
        "start_time": "2023-09-19T11:18:43.257Z"
      },
      {
        "duration": 406148,
        "start_time": "2023-09-19T11:19:34.611Z"
      },
      {
        "duration": 5,
        "start_time": "2023-09-19T12:36:55.950Z"
      },
      {
        "duration": 1552862,
        "start_time": "2023-09-19T12:51:17.509Z"
      },
      {
        "duration": 113080,
        "start_time": "2023-09-19T13:29:16.082Z"
      },
      {
        "duration": 2744151,
        "start_time": "2023-09-19T13:33:03.481Z"
      },
      {
        "duration": 0,
        "start_time": "2023-09-19T14:18:47.634Z"
      },
      {
        "duration": 1421,
        "start_time": "2023-09-19T14:18:51.024Z"
      },
      {
        "duration": 1996,
        "start_time": "2023-09-20T06:44:37.783Z"
      },
      {
        "duration": 4,
        "start_time": "2023-09-20T06:44:39.782Z"
      },
      {
        "duration": 2710,
        "start_time": "2023-09-20T06:44:39.788Z"
      },
      {
        "duration": 13,
        "start_time": "2023-09-20T06:44:42.500Z"
      },
      {
        "duration": 31,
        "start_time": "2023-09-20T06:44:43.896Z"
      },
      {
        "duration": 14,
        "start_time": "2023-09-20T06:44:47.914Z"
      },
      {
        "duration": 1606,
        "start_time": "2023-09-20T06:45:20.345Z"
      },
      {
        "duration": 3,
        "start_time": "2023-09-20T06:45:22.580Z"
      },
      {
        "duration": 967,
        "start_time": "2023-09-20T06:45:30.299Z"
      },
      {
        "duration": 11,
        "start_time": "2023-09-20T06:45:38.377Z"
      },
      {
        "duration": 30,
        "start_time": "2023-09-20T06:45:43.637Z"
      },
      {
        "duration": 17,
        "start_time": "2023-09-20T06:46:36.636Z"
      },
      {
        "duration": 3,
        "start_time": "2023-09-20T06:46:43.697Z"
      },
      {
        "duration": 1298,
        "start_time": "2023-09-20T06:46:51.299Z"
      },
      {
        "duration": 6,
        "start_time": "2023-09-20T06:46:58.980Z"
      },
      {
        "duration": 131,
        "start_time": "2023-09-20T06:47:50.895Z"
      },
      {
        "duration": 12,
        "start_time": "2023-09-20T06:47:55.178Z"
      },
      {
        "duration": 4,
        "start_time": "2023-09-20T06:49:17.477Z"
      },
      {
        "duration": 2,
        "start_time": "2023-09-20T06:49:21.833Z"
      },
      {
        "duration": 1370,
        "start_time": "2023-09-20T06:49:23.038Z"
      },
      {
        "duration": 6,
        "start_time": "2023-09-20T06:49:45.637Z"
      },
      {
        "duration": 8,
        "start_time": "2023-09-20T06:50:17.698Z"
      },
      {
        "duration": 3,
        "start_time": "2023-09-20T06:51:28.603Z"
      },
      {
        "duration": 1314,
        "start_time": "2023-09-20T06:51:29.159Z"
      },
      {
        "duration": 5,
        "start_time": "2023-09-20T06:51:30.474Z"
      },
      {
        "duration": 5,
        "start_time": "2023-09-20T06:52:07.101Z"
      },
      {
        "duration": 4,
        "start_time": "2023-09-20T06:52:19.539Z"
      },
      {
        "duration": 5,
        "start_time": "2023-09-20T06:58:03.443Z"
      },
      {
        "duration": 18,
        "start_time": "2023-09-20T06:58:15.321Z"
      },
      {
        "duration": 4,
        "start_time": "2023-09-20T06:58:33.739Z"
      },
      {
        "duration": 6,
        "start_time": "2023-09-20T06:59:12.009Z"
      },
      {
        "duration": 1490,
        "start_time": "2023-09-20T07:01:52.812Z"
      },
      {
        "duration": 7,
        "start_time": "2023-09-20T07:01:59.939Z"
      },
      {
        "duration": 15,
        "start_time": "2023-09-20T07:07:53.089Z"
      },
      {
        "duration": 10,
        "start_time": "2023-09-20T07:08:24.343Z"
      },
      {
        "duration": 532,
        "start_time": "2023-09-20T07:08:55.098Z"
      },
      {
        "duration": 14296,
        "start_time": "2023-09-20T07:09:34.623Z"
      },
      {
        "duration": 9,
        "start_time": "2023-09-20T07:13:56.811Z"
      },
      {
        "duration": 5,
        "start_time": "2023-09-20T07:14:23.874Z"
      },
      {
        "duration": 242,
        "start_time": "2023-09-20T07:14:33.498Z"
      },
      {
        "duration": 14673,
        "start_time": "2023-09-20T07:15:04.324Z"
      },
      {
        "duration": 404,
        "start_time": "2023-09-20T07:16:20.957Z"
      },
      {
        "duration": 25,
        "start_time": "2023-09-20T07:16:40.285Z"
      },
      {
        "duration": 16499,
        "start_time": "2023-09-20T07:17:18.415Z"
      },
      {
        "duration": 14,
        "start_time": "2023-09-20T07:17:38.582Z"
      },
      {
        "duration": 1904,
        "start_time": "2023-09-20T07:19:03.460Z"
      },
      {
        "duration": 3,
        "start_time": "2023-09-20T07:19:05.366Z"
      },
      {
        "duration": 1079,
        "start_time": "2023-09-20T07:19:05.372Z"
      },
      {
        "duration": 11,
        "start_time": "2023-09-20T07:19:06.454Z"
      },
      {
        "duration": 67,
        "start_time": "2023-09-20T07:19:06.467Z"
      },
      {
        "duration": 34,
        "start_time": "2023-09-20T07:19:06.536Z"
      },
      {
        "duration": 3,
        "start_time": "2023-09-20T07:19:07.280Z"
      },
      {
        "duration": 3,
        "start_time": "2023-09-20T07:19:08.195Z"
      },
      {
        "duration": 17406,
        "start_time": "2023-09-20T07:19:09.176Z"
      },
      {
        "duration": 11,
        "start_time": "2023-09-20T07:19:26.584Z"
      },
      {
        "duration": 24,
        "start_time": "2023-09-20T07:19:26.597Z"
      },
      {
        "duration": 15,
        "start_time": "2023-09-20T07:19:26.623Z"
      },
      {
        "duration": 29,
        "start_time": "2023-09-20T07:19:26.640Z"
      },
      {
        "duration": 6,
        "start_time": "2023-09-20T07:20:00.757Z"
      },
      {
        "duration": 143,
        "start_time": "2023-09-20T07:20:15.598Z"
      },
      {
        "duration": 15,
        "start_time": "2023-09-20T07:20:29.357Z"
      },
      {
        "duration": 151,
        "start_time": "2023-09-20T07:21:47.798Z"
      },
      {
        "duration": 6,
        "start_time": "2023-09-20T07:21:49.418Z"
      },
      {
        "duration": 16,
        "start_time": "2023-09-20T07:21:58.330Z"
      },
      {
        "duration": 4,
        "start_time": "2023-09-20T07:21:59.018Z"
      },
      {
        "duration": 3470,
        "start_time": "2023-09-20T07:22:00.203Z"
      },
      {
        "duration": 32067,
        "start_time": "2023-09-20T07:22:19.210Z"
      },
      {
        "duration": 5,
        "start_time": "2023-09-20T07:22:51.280Z"
      },
      {
        "duration": 9,
        "start_time": "2023-09-20T07:23:18.725Z"
      },
      {
        "duration": 10,
        "start_time": "2023-09-20T07:23:28.014Z"
      },
      {
        "duration": 5,
        "start_time": "2023-09-20T07:23:51.634Z"
      },
      {
        "duration": 4,
        "start_time": "2023-09-20T07:24:03.082Z"
      },
      {
        "duration": 114371,
        "start_time": "2023-09-20T07:26:13.133Z"
      },
      {
        "duration": 12,
        "start_time": "2023-09-20T07:28:07.506Z"
      },
      {
        "duration": 1456,
        "start_time": "2023-09-20T07:29:20.061Z"
      },
      {
        "duration": 145,
        "start_time": "2023-09-20T07:40:15.216Z"
      },
      {
        "duration": 2809339,
        "start_time": "2023-09-20T09:08:11.805Z"
      },
      {
        "duration": 19,
        "start_time": "2023-09-20T09:55:01.146Z"
      },
      {
        "duration": 16,
        "start_time": "2023-09-20T09:58:59.635Z"
      },
      {
        "duration": 14779,
        "start_time": "2023-09-20T10:03:23.588Z"
      },
      {
        "duration": 30,
        "start_time": "2023-09-20T10:03:58.943Z"
      },
      {
        "duration": 4,
        "start_time": "2023-09-20T10:06:55.095Z"
      },
      {
        "duration": 2515,
        "start_time": "2023-09-20T10:07:18.009Z"
      },
      {
        "duration": 29,
        "start_time": "2023-09-20T10:07:30.383Z"
      },
      {
        "duration": 33,
        "start_time": "2023-09-20T10:11:18.061Z"
      },
      {
        "duration": 14,
        "start_time": "2023-09-20T10:12:06.426Z"
      },
      {
        "duration": 5,
        "start_time": "2023-09-20T10:12:13.832Z"
      },
      {
        "duration": 58,
        "start_time": "2023-09-20T10:25:23.983Z"
      },
      {
        "duration": 1826,
        "start_time": "2023-09-20T10:27:20.870Z"
      },
      {
        "duration": 4,
        "start_time": "2023-09-20T10:27:25.365Z"
      },
      {
        "duration": 1162,
        "start_time": "2023-09-20T10:27:25.933Z"
      },
      {
        "duration": 12,
        "start_time": "2023-09-20T10:27:27.096Z"
      },
      {
        "duration": 55,
        "start_time": "2023-09-20T10:27:27.109Z"
      },
      {
        "duration": 16,
        "start_time": "2023-09-20T10:27:27.527Z"
      },
      {
        "duration": 2,
        "start_time": "2023-09-20T10:27:28.391Z"
      },
      {
        "duration": 3,
        "start_time": "2023-09-20T10:27:29.067Z"
      },
      {
        "duration": 19685,
        "start_time": "2023-09-20T10:27:40.397Z"
      },
      {
        "duration": 159,
        "start_time": "2023-09-20T10:28:00.085Z"
      },
      {
        "duration": 151,
        "start_time": "2023-09-20T10:28:06.281Z"
      },
      {
        "duration": 6,
        "start_time": "2023-09-20T10:28:55.045Z"
      },
      {
        "duration": 4,
        "start_time": "2023-09-20T10:29:05.239Z"
      },
      {
        "duration": 903,
        "start_time": "2023-09-20T10:29:12.905Z"
      },
      {
        "duration": 10,
        "start_time": "2023-09-20T10:29:36.368Z"
      },
      {
        "duration": 2606,
        "start_time": "2023-09-20T10:30:28.121Z"
      },
      {
        "duration": 1897,
        "start_time": "2023-09-20T10:30:30.731Z"
      },
      {
        "duration": 3,
        "start_time": "2023-09-20T10:30:32.630Z"
      },
      {
        "duration": 1162,
        "start_time": "2023-09-20T10:30:32.635Z"
      },
      {
        "duration": 13,
        "start_time": "2023-09-20T10:30:33.799Z"
      },
      {
        "duration": 78,
        "start_time": "2023-09-20T10:30:33.814Z"
      },
      {
        "duration": 22,
        "start_time": "2023-09-20T10:30:33.894Z"
      },
      {
        "duration": 23,
        "start_time": "2023-09-20T10:30:33.918Z"
      },
      {
        "duration": 33,
        "start_time": "2023-09-20T10:30:33.943Z"
      },
      {
        "duration": 10,
        "start_time": "2023-09-20T10:30:33.978Z"
      },
      {
        "duration": 1830,
        "start_time": "2023-09-20T10:30:41.991Z"
      },
      {
        "duration": 3,
        "start_time": "2023-09-20T10:30:43.823Z"
      },
      {
        "duration": 1141,
        "start_time": "2023-09-20T10:30:43.828Z"
      },
      {
        "duration": 11,
        "start_time": "2023-09-20T10:30:44.971Z"
      },
      {
        "duration": 35,
        "start_time": "2023-09-20T10:30:48.203Z"
      },
      {
        "duration": 16,
        "start_time": "2023-09-20T10:30:51.705Z"
      },
      {
        "duration": 3,
        "start_time": "2023-09-20T10:30:54.085Z"
      },
      {
        "duration": 4,
        "start_time": "2023-09-20T10:30:54.844Z"
      },
      {
        "duration": 19732,
        "start_time": "2023-09-20T10:31:11.762Z"
      },
      {
        "duration": 154,
        "start_time": "2023-09-20T10:31:31.496Z"
      },
      {
        "duration": 170,
        "start_time": "2023-09-20T10:31:31.653Z"
      },
      {
        "duration": 18,
        "start_time": "2023-09-20T10:31:35.303Z"
      },
      {
        "duration": 63,
        "start_time": "2023-09-20T10:31:46.244Z"
      },
      {
        "duration": 933,
        "start_time": "2023-09-20T10:32:33.426Z"
      },
      {
        "duration": 32,
        "start_time": "2023-09-20T10:32:39.169Z"
      },
      {
        "duration": 14,
        "start_time": "2023-09-20T10:32:49.369Z"
      },
      {
        "duration": 1785,
        "start_time": "2023-09-20T10:33:05.611Z"
      },
      {
        "duration": 3,
        "start_time": "2023-09-20T10:33:07.398Z"
      },
      {
        "duration": 1086,
        "start_time": "2023-09-20T10:33:10.378Z"
      },
      {
        "duration": 13,
        "start_time": "2023-09-20T10:33:23.250Z"
      },
      {
        "duration": 990,
        "start_time": "2023-09-20T10:35:37.170Z"
      },
      {
        "duration": 7,
        "start_time": "2023-09-20T10:35:40.043Z"
      },
      {
        "duration": 33,
        "start_time": "2023-09-20T10:35:48.938Z"
      },
      {
        "duration": 16,
        "start_time": "2023-09-20T10:35:57.658Z"
      },
      {
        "duration": 3,
        "start_time": "2023-09-20T10:36:01.106Z"
      },
      {
        "duration": 2,
        "start_time": "2023-09-20T10:36:04.605Z"
      },
      {
        "duration": 17312,
        "start_time": "2023-09-20T10:36:11.267Z"
      },
      {
        "duration": 263,
        "start_time": "2023-09-20T10:36:28.581Z"
      },
      {
        "duration": 4,
        "start_time": "2023-09-20T10:36:28.846Z"
      },
      {
        "duration": 851,
        "start_time": "2023-09-20T10:36:28.852Z"
      },
      {
        "duration": 9,
        "start_time": "2023-09-20T10:36:29.705Z"
      },
      {
        "duration": 37,
        "start_time": "2023-09-20T10:36:33.685Z"
      },
      {
        "duration": 85,
        "start_time": "2023-09-20T10:36:47.986Z"
      },
      {
        "duration": 6,
        "start_time": "2023-09-20T10:37:03.290Z"
      },
      {
        "duration": 3,
        "start_time": "2023-09-20T10:37:25.945Z"
      },
      {
        "duration": 14,
        "start_time": "2023-09-20T10:37:38.496Z"
      },
      {
        "duration": 5,
        "start_time": "2023-09-20T10:37:52.542Z"
      },
      {
        "duration": 2432,
        "start_time": "2023-09-20T10:37:59.577Z"
      },
      {
        "duration": 8,
        "start_time": "2023-09-20T10:38:02.243Z"
      },
      {
        "duration": 4,
        "start_time": "2023-09-20T10:38:02.969Z"
      },
      {
        "duration": 9438,
        "start_time": "2023-09-20T10:40:37.540Z"
      },
      {
        "duration": 4,
        "start_time": "2023-09-20T10:40:46.980Z"
      },
      {
        "duration": 21,
        "start_time": "2023-09-20T10:40:46.986Z"
      },
      {
        "duration": 494,
        "start_time": "2023-09-20T10:40:58.566Z"
      },
      {
        "duration": 85434,
        "start_time": "2023-09-20T10:41:03.008Z"
      },
      {
        "duration": 779,
        "start_time": "2023-09-20T10:42:40.362Z"
      },
      {
        "duration": 2864,
        "start_time": "2023-09-20T10:47:29.502Z"
      },
      {
        "duration": 5,
        "start_time": "2023-09-20T10:47:32.369Z"
      },
      {
        "duration": 11,
        "start_time": "2023-09-20T10:47:32.377Z"
      },
      {
        "duration": 31614,
        "start_time": "2023-09-20T10:49:03.752Z"
      },
      {
        "duration": 803,
        "start_time": "2023-09-20T10:49:58.584Z"
      },
      {
        "duration": 12,
        "start_time": "2023-09-20T10:50:04.314Z"
      },
      {
        "duration": 755,
        "start_time": "2023-09-20T10:54:56.594Z"
      },
      {
        "duration": 112288,
        "start_time": "2023-09-20T10:55:08.852Z"
      },
      {
        "duration": 2179,
        "start_time": "2023-09-20T10:57:06.048Z"
      },
      {
        "duration": 2645,
        "start_time": "2023-09-20T11:26:01.880Z"
      },
      {
        "duration": 1791,
        "start_time": "2023-09-20T11:26:04.528Z"
      },
      {
        "duration": 2,
        "start_time": "2023-09-20T11:26:06.321Z"
      },
      {
        "duration": 1175,
        "start_time": "2023-09-20T11:26:06.326Z"
      },
      {
        "duration": 12,
        "start_time": "2023-09-20T11:26:07.503Z"
      },
      {
        "duration": 56,
        "start_time": "2023-09-20T11:26:07.517Z"
      },
      {
        "duration": 19,
        "start_time": "2023-09-20T11:26:07.575Z"
      },
      {
        "duration": 3,
        "start_time": "2023-09-20T11:26:07.595Z"
      },
      {
        "duration": 11,
        "start_time": "2023-09-20T11:26:07.600Z"
      },
      {
        "duration": 6,
        "start_time": "2023-09-20T11:26:07.614Z"
      },
      {
        "duration": 19509,
        "start_time": "2023-09-20T11:26:07.622Z"
      },
      {
        "duration": 212,
        "start_time": "2023-09-20T11:26:27.133Z"
      },
      {
        "duration": 6,
        "start_time": "2023-09-20T11:26:27.347Z"
      },
      {
        "duration": 906,
        "start_time": "2023-09-20T11:26:27.355Z"
      },
      {
        "duration": 11,
        "start_time": "2023-09-20T11:26:28.263Z"
      },
      {
        "duration": 42,
        "start_time": "2023-09-20T11:26:28.276Z"
      },
      {
        "duration": 110,
        "start_time": "2023-09-20T11:26:28.320Z"
      },
      {
        "duration": 21,
        "start_time": "2023-09-20T11:26:28.431Z"
      },
      {
        "duration": 3,
        "start_time": "2023-09-20T11:26:28.456Z"
      },
      {
        "duration": 27,
        "start_time": "2023-09-20T11:26:28.461Z"
      },
      {
        "duration": 5,
        "start_time": "2023-09-20T11:26:28.490Z"
      },
      {
        "duration": 2544,
        "start_time": "2023-09-20T11:26:28.497Z"
      },
      {
        "duration": 7,
        "start_time": "2023-09-20T11:26:31.043Z"
      },
      {
        "duration": 44,
        "start_time": "2023-09-20T11:26:31.052Z"
      },
      {
        "duration": 941,
        "start_time": "2023-09-20T11:26:31.098Z"
      },
      {
        "duration": 122379,
        "start_time": "2023-09-20T11:26:32.046Z"
      },
      {
        "duration": 1198081,
        "start_time": "2023-09-20T11:28:34.426Z"
      },
      {
        "duration": 13,
        "start_time": "2023-09-20T11:48:32.510Z"
      },
      {
        "duration": 0,
        "start_time": "2023-09-20T11:48:32.525Z"
      },
      {
        "duration": 0,
        "start_time": "2023-09-20T11:48:32.526Z"
      },
      {
        "duration": 8650,
        "start_time": "2023-09-20T11:48:49.851Z"
      },
      {
        "duration": 25,
        "start_time": "2023-09-20T11:49:55.158Z"
      },
      {
        "duration": 229722,
        "start_time": "2023-09-20T11:55:04.187Z"
      },
      {
        "duration": 14,
        "start_time": "2023-09-20T11:59:51.989Z"
      },
      {
        "duration": 8,
        "start_time": "2023-09-20T12:00:37.589Z"
      },
      {
        "duration": 19,
        "start_time": "2023-09-20T12:00:54.148Z"
      },
      {
        "duration": 4,
        "start_time": "2023-09-20T12:02:05.595Z"
      },
      {
        "duration": 34085,
        "start_time": "2023-09-20T12:02:49.797Z"
      },
      {
        "duration": 34310,
        "start_time": "2023-09-20T12:03:35.213Z"
      },
      {
        "duration": 4,
        "start_time": "2023-09-20T12:08:08.191Z"
      },
      {
        "duration": 8822,
        "start_time": "2023-09-20T12:10:18.270Z"
      },
      {
        "duration": 13,
        "start_time": "2023-09-20T12:10:41.436Z"
      },
      {
        "duration": 13413,
        "start_time": "2023-09-20T12:10:57.143Z"
      },
      {
        "duration": 17,
        "start_time": "2023-09-20T12:11:19.499Z"
      },
      {
        "duration": 4357,
        "start_time": "2023-09-20T12:11:27.540Z"
      },
      {
        "duration": 31433,
        "start_time": "2023-09-20T12:13:36.415Z"
      },
      {
        "duration": 14,
        "start_time": "2023-09-20T12:14:21.138Z"
      },
      {
        "duration": 4651,
        "start_time": "2023-09-20T12:18:41.739Z"
      },
      {
        "duration": 14,
        "start_time": "2023-09-20T12:18:59.267Z"
      },
      {
        "duration": 2814,
        "start_time": "2023-09-20T12:21:04.402Z"
      },
      {
        "duration": 1752,
        "start_time": "2023-09-20T12:21:07.219Z"
      },
      {
        "duration": 4,
        "start_time": "2023-09-20T12:21:08.973Z"
      },
      {
        "duration": 1197,
        "start_time": "2023-09-20T12:21:08.979Z"
      },
      {
        "duration": 12,
        "start_time": "2023-09-20T12:21:10.178Z"
      },
      {
        "duration": 52,
        "start_time": "2023-09-20T12:21:10.192Z"
      },
      {
        "duration": 17,
        "start_time": "2023-09-20T12:21:10.246Z"
      },
      {
        "duration": 11,
        "start_time": "2023-09-20T12:21:10.266Z"
      },
      {
        "duration": 10,
        "start_time": "2023-09-20T12:21:10.279Z"
      },
      {
        "duration": 5,
        "start_time": "2023-09-20T12:21:10.292Z"
      },
      {
        "duration": 48335,
        "start_time": "2023-09-20T12:21:10.298Z"
      },
      {
        "duration": 225,
        "start_time": "2023-09-20T12:21:58.634Z"
      },
      {
        "duration": 9,
        "start_time": "2023-09-20T12:21:58.862Z"
      },
      {
        "duration": 2232,
        "start_time": "2023-09-20T12:21:58.873Z"
      },
      {
        "duration": 11,
        "start_time": "2023-09-20T12:22:01.108Z"
      },
      {
        "duration": 158,
        "start_time": "2023-09-20T12:22:01.121Z"
      },
      {
        "duration": 227,
        "start_time": "2023-09-20T12:22:01.281Z"
      },
      {
        "duration": 7,
        "start_time": "2023-09-20T12:22:01.510Z"
      },
      {
        "duration": 40,
        "start_time": "2023-09-20T12:22:01.518Z"
      },
      {
        "duration": 94,
        "start_time": "2023-09-20T12:22:01.560Z"
      },
      {
        "duration": 34,
        "start_time": "2023-09-20T12:22:01.657Z"
      },
      {
        "duration": 6615,
        "start_time": "2023-09-20T12:22:01.693Z"
      },
      {
        "duration": 4,
        "start_time": "2023-09-20T12:22:08.310Z"
      },
      {
        "duration": 39,
        "start_time": "2023-09-20T12:22:08.316Z"
      },
      {
        "duration": 14015,
        "start_time": "2023-09-20T12:22:08.360Z"
      },
      {
        "duration": 95590,
        "start_time": "2023-09-20T12:22:22.377Z"
      },
      {
        "duration": 5,
        "start_time": "2023-09-20T12:23:57.969Z"
      },
      {
        "duration": 57,
        "start_time": "2023-09-20T12:23:57.977Z"
      },
      {
        "duration": 47799,
        "start_time": "2023-09-20T12:23:58.036Z"
      },
      {
        "duration": 19219,
        "start_time": "2023-09-20T12:24:45.837Z"
      },
      {
        "duration": 12,
        "start_time": "2023-09-20T12:25:05.059Z"
      },
      {
        "duration": 0,
        "start_time": "2023-09-20T12:25:05.082Z"
      },
      {
        "duration": 0,
        "start_time": "2023-09-20T12:25:05.086Z"
      },
      {
        "duration": 21,
        "start_time": "2023-09-20T12:25:13.625Z"
      },
      {
        "duration": 37935,
        "start_time": "2023-09-20T12:30:49.774Z"
      },
      {
        "duration": 402180,
        "start_time": "2023-09-20T12:31:52.488Z"
      },
      {
        "duration": 5,
        "start_time": "2023-09-20T12:39:06.418Z"
      },
      {
        "duration": 31,
        "start_time": "2023-09-20T12:39:08.070Z"
      },
      {
        "duration": 13783,
        "start_time": "2023-09-20T12:48:57.575Z"
      },
      {
        "duration": 38786,
        "start_time": "2023-09-20T12:49:11.365Z"
      },
      {
        "duration": 13888,
        "start_time": "2023-09-20T12:49:56.547Z"
      },
      {
        "duration": 317219,
        "start_time": "2023-09-20T12:50:22.686Z"
      },
      {
        "duration": 24,
        "start_time": "2023-09-20T12:55:52.546Z"
      },
      {
        "duration": 4,
        "start_time": "2023-09-20T12:57:03.005Z"
      },
      {
        "duration": 21,
        "start_time": "2023-09-20T12:57:03.289Z"
      },
      {
        "duration": 11534,
        "start_time": "2023-09-20T13:02:31.373Z"
      },
      {
        "duration": 11383,
        "start_time": "2023-09-20T13:03:56.239Z"
      },
      {
        "duration": 36572,
        "start_time": "2023-09-20T13:04:39.435Z"
      },
      {
        "duration": 2794,
        "start_time": "2023-09-20T13:10:00.548Z"
      },
      {
        "duration": 176,
        "start_time": "2023-09-20T13:10:58.661Z"
      },
      {
        "duration": 148,
        "start_time": "2023-09-20T13:11:08.661Z"
      },
      {
        "duration": 458,
        "start_time": "2023-09-20T13:12:15.819Z"
      },
      {
        "duration": 162,
        "start_time": "2023-09-20T13:12:27.555Z"
      },
      {
        "duration": 10,
        "start_time": "2023-09-20T13:13:22.223Z"
      },
      {
        "duration": 8,
        "start_time": "2023-09-20T13:14:05.800Z"
      },
      {
        "duration": 8,
        "start_time": "2023-09-20T13:14:22.500Z"
      },
      {
        "duration": 58,
        "start_time": "2023-09-20T13:16:19.973Z"
      },
      {
        "duration": 13326,
        "start_time": "2023-09-20T13:16:32.397Z"
      },
      {
        "duration": 14258,
        "start_time": "2023-09-20T13:16:55.343Z"
      },
      {
        "duration": 12972,
        "start_time": "2023-09-20T13:17:18.345Z"
      },
      {
        "duration": 13035,
        "start_time": "2023-09-20T13:17:41.524Z"
      },
      {
        "duration": 13066,
        "start_time": "2023-09-20T13:18:01.364Z"
      },
      {
        "duration": 13192,
        "start_time": "2023-09-20T13:18:23.725Z"
      },
      {
        "duration": 13086,
        "start_time": "2023-09-20T13:18:48.891Z"
      },
      {
        "duration": 12709,
        "start_time": "2023-09-20T13:19:12.610Z"
      },
      {
        "duration": 39347,
        "start_time": "2023-09-20T13:19:45.061Z"
      },
      {
        "duration": 41787,
        "start_time": "2023-09-20T13:20:45.237Z"
      },
      {
        "duration": 46293,
        "start_time": "2023-09-20T13:22:16.607Z"
      },
      {
        "duration": 69,
        "start_time": "2023-09-20T13:23:10.459Z"
      },
      {
        "duration": 53281,
        "start_time": "2023-09-20T13:23:33.218Z"
      },
      {
        "duration": 358916,
        "start_time": "2023-09-20T13:37:42.669Z"
      },
      {
        "duration": 2531,
        "start_time": "2023-09-20T13:43:55.119Z"
      },
      {
        "duration": 1767,
        "start_time": "2023-09-20T13:43:57.653Z"
      },
      {
        "duration": 3,
        "start_time": "2023-09-20T13:43:59.421Z"
      },
      {
        "duration": 1128,
        "start_time": "2023-09-20T13:43:59.426Z"
      },
      {
        "duration": 13,
        "start_time": "2023-09-20T13:44:00.556Z"
      },
      {
        "duration": 143,
        "start_time": "2023-09-20T13:44:00.571Z"
      },
      {
        "duration": 128,
        "start_time": "2023-09-20T13:44:00.716Z"
      },
      {
        "duration": 49,
        "start_time": "2023-09-20T13:44:00.846Z"
      },
      {
        "duration": 40,
        "start_time": "2023-09-20T13:44:00.898Z"
      },
      {
        "duration": 60,
        "start_time": "2023-09-20T13:44:00.941Z"
      },
      {
        "duration": 44934,
        "start_time": "2023-09-20T13:44:01.003Z"
      },
      {
        "duration": 223,
        "start_time": "2023-09-20T13:44:45.939Z"
      },
      {
        "duration": 5,
        "start_time": "2023-09-20T13:44:46.165Z"
      },
      {
        "duration": 2066,
        "start_time": "2023-09-20T13:44:46.172Z"
      },
      {
        "duration": 25,
        "start_time": "2023-09-20T13:44:48.241Z"
      },
      {
        "duration": 119,
        "start_time": "2023-09-20T13:44:48.269Z"
      },
      {
        "duration": 250,
        "start_time": "2023-09-20T13:44:48.390Z"
      },
      {
        "duration": 9,
        "start_time": "2023-09-20T13:44:48.642Z"
      },
      {
        "duration": 44,
        "start_time": "2023-09-20T13:44:48.653Z"
      },
      {
        "duration": 60,
        "start_time": "2023-09-20T13:44:48.699Z"
      },
      {
        "duration": 25,
        "start_time": "2023-09-20T13:44:48.761Z"
      },
      {
        "duration": 25925,
        "start_time": "2023-09-20T13:44:48.788Z"
      },
      {
        "duration": 5,
        "start_time": "2023-09-20T13:45:14.714Z"
      },
      {
        "duration": 38,
        "start_time": "2023-09-20T13:45:14.720Z"
      },
      {
        "duration": 182,
        "start_time": "2023-09-20T13:45:14.760Z"
      },
      {
        "duration": 14,
        "start_time": "2023-09-20T13:45:14.944Z"
      },
      {
        "duration": 1933,
        "start_time": "2023-09-20T13:45:14.960Z"
      },
      {
        "duration": 2596,
        "start_time": "2023-09-20T13:45:16.897Z"
      },
      {
        "duration": 24246,
        "start_time": "2023-09-20T13:45:19.495Z"
      },
      {
        "duration": 7,
        "start_time": "2023-09-20T13:45:43.743Z"
      },
      {
        "duration": 39,
        "start_time": "2023-09-20T13:45:43.751Z"
      },
      {
        "duration": 373040,
        "start_time": "2023-09-20T13:45:43.791Z"
      },
      {
        "duration": 306060,
        "start_time": "2023-09-20T13:51:56.833Z"
      },
      {
        "duration": 14,
        "start_time": "2023-09-20T13:57:02.895Z"
      },
      {
        "duration": 0,
        "start_time": "2023-09-20T13:57:02.911Z"
      },
      {
        "duration": 0,
        "start_time": "2023-09-20T13:57:02.913Z"
      },
      {
        "duration": 2193,
        "start_time": "2023-09-20T13:57:16.017Z"
      },
      {
        "duration": 20,
        "start_time": "2023-09-20T13:57:24.295Z"
      },
      {
        "duration": 2078,
        "start_time": "2023-09-20T13:59:05.190Z"
      },
      {
        "duration": 3,
        "start_time": "2023-09-20T13:59:07.271Z"
      },
      {
        "duration": 1166,
        "start_time": "2023-09-20T13:59:07.276Z"
      },
      {
        "duration": 15,
        "start_time": "2023-09-20T13:59:08.444Z"
      },
      {
        "duration": 35,
        "start_time": "2023-09-20T13:59:08.462Z"
      },
      {
        "duration": 2,
        "start_time": "2023-09-20T13:59:08.499Z"
      },
      {
        "duration": 11,
        "start_time": "2023-09-20T13:59:08.503Z"
      },
      {
        "duration": 11,
        "start_time": "2023-09-20T13:59:08.515Z"
      },
      {
        "duration": 2,
        "start_time": "2023-09-20T13:59:08.888Z"
      },
      {
        "duration": 45634,
        "start_time": "2023-09-20T13:59:15.619Z"
      },
      {
        "duration": 156,
        "start_time": "2023-09-20T14:00:01.256Z"
      },
      {
        "duration": 4,
        "start_time": "2023-09-20T14:00:01.414Z"
      },
      {
        "duration": 123,
        "start_time": "2023-09-20T14:00:01.419Z"
      },
      {
        "duration": 97,
        "start_time": "2023-09-20T14:00:01.544Z"
      },
      {
        "duration": 200,
        "start_time": "2023-09-20T14:00:01.643Z"
      },
      {
        "duration": 388,
        "start_time": "2023-09-20T14:00:40.776Z"
      },
      {
        "duration": 7,
        "start_time": "2023-09-20T14:00:41.167Z"
      },
      {
        "duration": 3,
        "start_time": "2023-09-20T14:00:41.500Z"
      },
      {
        "duration": 35,
        "start_time": "2023-09-20T14:00:43.153Z"
      },
      {
        "duration": 5,
        "start_time": "2023-09-20T14:00:47.849Z"
      },
      {
        "duration": 8746,
        "start_time": "2023-09-20T14:00:57.219Z"
      },
      {
        "duration": 5,
        "start_time": "2023-09-20T14:01:14.025Z"
      },
      {
        "duration": 4,
        "start_time": "2023-09-20T14:01:23.506Z"
      },
      {
        "duration": 55038,
        "start_time": "2023-09-20T14:01:34.553Z"
      },
      {
        "duration": 38588,
        "start_time": "2023-09-20T14:02:36.858Z"
      },
      {
        "duration": 32,
        "start_time": "2023-09-20T14:03:26.744Z"
      },
      {
        "duration": 279,
        "start_time": "2023-09-20T14:06:19.819Z"
      },
      {
        "duration": 1708,
        "start_time": "2023-09-21T06:53:46.373Z"
      },
      {
        "duration": 3,
        "start_time": "2023-09-21T06:53:48.083Z"
      },
      {
        "duration": 2438,
        "start_time": "2023-09-21T06:53:54.680Z"
      },
      {
        "duration": 11,
        "start_time": "2023-09-21T06:53:57.120Z"
      },
      {
        "duration": 30,
        "start_time": "2023-09-21T06:53:57.445Z"
      },
      {
        "duration": 2,
        "start_time": "2023-09-21T06:53:59.640Z"
      },
      {
        "duration": 3,
        "start_time": "2023-09-21T06:54:08.422Z"
      },
      {
        "duration": 2,
        "start_time": "2023-09-21T06:54:09.067Z"
      },
      {
        "duration": 2,
        "start_time": "2023-09-21T06:54:10.079Z"
      },
      {
        "duration": 38474,
        "start_time": "2023-09-21T06:54:10.461Z"
      },
      {
        "duration": 225,
        "start_time": "2023-09-21T06:54:48.936Z"
      },
      {
        "duration": 4,
        "start_time": "2023-09-21T06:54:49.163Z"
      },
      {
        "duration": 48,
        "start_time": "2023-09-21T06:54:49.168Z"
      },
      {
        "duration": 75,
        "start_time": "2023-09-21T06:54:49.218Z"
      },
      {
        "duration": 173,
        "start_time": "2023-09-21T06:54:49.295Z"
      },
      {
        "duration": 320,
        "start_time": "2023-09-21T06:54:49.470Z"
      },
      {
        "duration": 6,
        "start_time": "2023-09-21T06:54:51.973Z"
      },
      {
        "duration": 3,
        "start_time": "2023-09-21T06:54:52.966Z"
      },
      {
        "duration": 32,
        "start_time": "2023-09-21T06:54:53.652Z"
      },
      {
        "duration": 4,
        "start_time": "2023-09-21T06:54:54.629Z"
      },
      {
        "duration": 6910,
        "start_time": "2023-09-21T06:54:56.345Z"
      },
      {
        "duration": 5,
        "start_time": "2023-09-21T06:55:03.257Z"
      },
      {
        "duration": 67,
        "start_time": "2023-09-21T06:55:03.264Z"
      },
      {
        "duration": 34506,
        "start_time": "2023-09-21T06:58:45.403Z"
      },
      {
        "duration": 19,
        "start_time": "2023-09-21T07:00:33.588Z"
      },
      {
        "duration": 6,
        "start_time": "2023-09-21T07:01:07.022Z"
      },
      {
        "duration": 19,
        "start_time": "2023-09-21T07:01:46.582Z"
      },
      {
        "duration": 18,
        "start_time": "2023-09-21T07:01:58.042Z"
      },
      {
        "duration": 749536,
        "start_time": "2023-09-21T07:06:16.344Z"
      },
      {
        "duration": 2965,
        "start_time": "2023-09-21T07:18:50.396Z"
      },
      {
        "duration": 87,
        "start_time": "2023-09-21T07:19:18.641Z"
      },
      {
        "duration": 97,
        "start_time": "2023-09-21T07:19:28.769Z"
      },
      {
        "duration": 209,
        "start_time": "2023-09-21T07:19:39.898Z"
      },
      {
        "duration": 82,
        "start_time": "2023-09-21T07:19:48.957Z"
      },
      {
        "duration": 185,
        "start_time": "2023-09-21T07:20:05.503Z"
      },
      {
        "duration": 2543,
        "start_time": "2023-09-21T07:20:17.748Z"
      },
      {
        "duration": 155,
        "start_time": "2023-09-21T07:20:38.242Z"
      },
      {
        "duration": 125,
        "start_time": "2023-09-21T07:20:48.468Z"
      },
      {
        "duration": 603,
        "start_time": "2023-09-21T07:21:29.369Z"
      },
      {
        "duration": 1655,
        "start_time": "2023-09-21T07:21:41.014Z"
      },
      {
        "duration": 3,
        "start_time": "2023-09-21T07:21:42.672Z"
      },
      {
        "duration": 1062,
        "start_time": "2023-09-21T07:21:43.069Z"
      },
      {
        "duration": 12,
        "start_time": "2023-09-21T07:21:44.908Z"
      },
      {
        "duration": 32,
        "start_time": "2023-09-21T07:21:47.298Z"
      },
      {
        "duration": 3,
        "start_time": "2023-09-21T07:21:51.659Z"
      },
      {
        "duration": 125,
        "start_time": "2023-09-21T07:22:58.874Z"
      },
      {
        "duration": 2967,
        "start_time": "2023-09-21T07:23:16.072Z"
      },
      {
        "duration": 306,
        "start_time": "2023-09-21T07:23:27.915Z"
      },
      {
        "duration": 144,
        "start_time": "2023-09-21T07:24:07.298Z"
      },
      {
        "duration": 105,
        "start_time": "2023-09-21T07:24:20.336Z"
      },
      {
        "duration": 2391,
        "start_time": "2023-09-21T07:25:04.899Z"
      },
      {
        "duration": 2633,
        "start_time": "2023-09-21T07:25:12.465Z"
      },
      {
        "duration": 8671,
        "start_time": "2023-09-21T07:25:23.579Z"
      },
      {
        "duration": 4921,
        "start_time": "2023-09-21T07:25:37.043Z"
      },
      {
        "duration": 729,
        "start_time": "2023-09-21T07:25:48.542Z"
      },
      {
        "duration": 8591,
        "start_time": "2023-09-21T07:25:56.752Z"
      },
      {
        "duration": 116,
        "start_time": "2023-09-21T07:26:09.566Z"
      },
      {
        "duration": 91,
        "start_time": "2023-09-21T07:26:12.484Z"
      },
      {
        "duration": 4,
        "start_time": "2023-09-21T07:26:18.489Z"
      },
      {
        "duration": 116,
        "start_time": "2023-09-21T07:26:21.574Z"
      },
      {
        "duration": 4,
        "start_time": "2023-09-21T07:26:41.090Z"
      },
      {
        "duration": 762,
        "start_time": "2023-09-21T07:27:31.750Z"
      },
      {
        "duration": 19,
        "start_time": "2023-09-21T07:28:25.865Z"
      },
      {
        "duration": 25,
        "start_time": "2023-09-21T07:28:31.575Z"
      },
      {
        "duration": 5,
        "start_time": "2023-09-21T07:28:41.679Z"
      },
      {
        "duration": 764,
        "start_time": "2023-09-21T07:30:59.584Z"
      },
      {
        "duration": 2,
        "start_time": "2023-09-21T07:31:08.099Z"
      },
      {
        "duration": 124223,
        "start_time": "2023-09-21T07:31:10.500Z"
      },
      {
        "duration": 13,
        "start_time": "2023-09-21T07:33:25.363Z"
      },
      {
        "duration": 4,
        "start_time": "2023-09-21T07:33:33.604Z"
      },
      {
        "duration": 11,
        "start_time": "2023-09-21T07:33:45.981Z"
      },
      {
        "duration": 10,
        "start_time": "2023-09-21T07:33:55.182Z"
      },
      {
        "duration": 7344,
        "start_time": "2023-09-21T07:33:55.511Z"
      },
      {
        "duration": 18,
        "start_time": "2023-09-21T07:34:32.891Z"
      },
      {
        "duration": 16,
        "start_time": "2023-09-21T07:34:42.954Z"
      },
      {
        "duration": 39,
        "start_time": "2023-09-21T07:37:47.140Z"
      },
      {
        "duration": 10,
        "start_time": "2023-09-21T07:37:47.988Z"
      },
      {
        "duration": 120,
        "start_time": "2023-09-21T07:38:03.285Z"
      },
      {
        "duration": 13,
        "start_time": "2023-09-21T07:38:08.335Z"
      },
      {
        "duration": 2445,
        "start_time": "2023-09-21T07:39:29.891Z"
      },
      {
        "duration": 4696,
        "start_time": "2023-09-21T07:39:43.295Z"
      },
      {
        "duration": 6,
        "start_time": "2023-09-21T07:39:47.993Z"
      },
      {
        "duration": 1019,
        "start_time": "2023-09-21T07:39:48.001Z"
      },
      {
        "duration": 22,
        "start_time": "2023-09-21T07:39:49.022Z"
      },
      {
        "duration": 34,
        "start_time": "2023-09-21T07:39:49.047Z"
      },
      {
        "duration": 39,
        "start_time": "2023-09-21T07:39:49.083Z"
      },
      {
        "duration": 23,
        "start_time": "2023-09-21T07:39:49.124Z"
      },
      {
        "duration": 512,
        "start_time": "2023-09-21T07:39:50.159Z"
      },
      {
        "duration": 9,
        "start_time": "2023-09-21T07:39:52.894Z"
      },
      {
        "duration": 14,
        "start_time": "2023-09-21T07:39:56.294Z"
      },
      {
        "duration": 5152,
        "start_time": "2023-09-21T07:40:05.728Z"
      },
      {
        "duration": 8290,
        "start_time": "2023-09-21T07:40:16.432Z"
      },
      {
        "duration": 10,
        "start_time": "2023-09-21T07:44:49.175Z"
      },
      {
        "duration": 402,
        "start_time": "2023-09-21T07:48:07.002Z"
      },
      {
        "duration": 11,
        "start_time": "2023-09-21T07:49:33.408Z"
      },
      {
        "duration": 14,
        "start_time": "2023-09-21T07:50:30.911Z"
      },
      {
        "duration": 199,
        "start_time": "2023-09-21T07:51:48.308Z"
      },
      {
        "duration": 2587,
        "start_time": "2023-09-21T07:59:28.893Z"
      },
      {
        "duration": 4732,
        "start_time": "2023-09-21T07:59:31.482Z"
      },
      {
        "duration": 5,
        "start_time": "2023-09-21T07:59:36.216Z"
      },
      {
        "duration": 1001,
        "start_time": "2023-09-21T07:59:36.224Z"
      },
      {
        "duration": 33,
        "start_time": "2023-09-21T07:59:37.227Z"
      },
      {
        "duration": 15,
        "start_time": "2023-09-21T07:59:37.263Z"
      },
      {
        "duration": 43,
        "start_time": "2023-09-21T07:59:37.280Z"
      },
      {
        "duration": 7,
        "start_time": "2023-09-21T07:59:37.325Z"
      },
      {
        "duration": 581,
        "start_time": "2023-09-21T07:59:37.333Z"
      },
      {
        "duration": 7,
        "start_time": "2023-09-21T07:59:37.916Z"
      },
      {
        "duration": 28,
        "start_time": "2023-09-21T07:59:37.925Z"
      },
      {
        "duration": 63916,
        "start_time": "2023-09-21T07:59:37.956Z"
      },
      {
        "duration": 0,
        "start_time": "2023-09-21T08:00:41.875Z"
      },
      {
        "duration": 0,
        "start_time": "2023-09-21T08:00:41.875Z"
      },
      {
        "duration": 0,
        "start_time": "2023-09-21T08:00:41.876Z"
      },
      {
        "duration": 0,
        "start_time": "2023-09-21T08:00:41.877Z"
      },
      {
        "duration": 0,
        "start_time": "2023-09-21T08:00:41.878Z"
      },
      {
        "duration": 0,
        "start_time": "2023-09-21T08:00:41.879Z"
      },
      {
        "duration": 0,
        "start_time": "2023-09-21T08:00:41.880Z"
      },
      {
        "duration": 0,
        "start_time": "2023-09-21T08:00:41.881Z"
      },
      {
        "duration": 0,
        "start_time": "2023-09-21T08:00:41.883Z"
      },
      {
        "duration": 0,
        "start_time": "2023-09-21T08:00:41.884Z"
      },
      {
        "duration": 0,
        "start_time": "2023-09-21T08:00:41.885Z"
      },
      {
        "duration": 0,
        "start_time": "2023-09-21T08:00:41.886Z"
      },
      {
        "duration": 0,
        "start_time": "2023-09-21T08:00:41.887Z"
      },
      {
        "duration": 0,
        "start_time": "2023-09-21T08:00:41.888Z"
      },
      {
        "duration": 0,
        "start_time": "2023-09-21T08:00:41.889Z"
      },
      {
        "duration": 0,
        "start_time": "2023-09-21T08:00:41.890Z"
      },
      {
        "duration": 0,
        "start_time": "2023-09-21T08:00:41.892Z"
      },
      {
        "duration": 0,
        "start_time": "2023-09-21T08:00:41.892Z"
      },
      {
        "duration": 0,
        "start_time": "2023-09-21T08:00:41.893Z"
      },
      {
        "duration": 0,
        "start_time": "2023-09-21T08:00:41.895Z"
      },
      {
        "duration": 0,
        "start_time": "2023-09-21T08:00:41.895Z"
      },
      {
        "duration": 0,
        "start_time": "2023-09-21T08:00:41.896Z"
      },
      {
        "duration": 0,
        "start_time": "2023-09-21T08:00:41.897Z"
      },
      {
        "duration": 0,
        "start_time": "2023-09-21T08:00:41.898Z"
      },
      {
        "duration": 0,
        "start_time": "2023-09-21T08:00:41.899Z"
      },
      {
        "duration": 0,
        "start_time": "2023-09-21T08:00:41.900Z"
      },
      {
        "duration": 0,
        "start_time": "2023-09-21T08:00:41.901Z"
      },
      {
        "duration": 0,
        "start_time": "2023-09-21T08:00:41.902Z"
      },
      {
        "duration": 18,
        "start_time": "2023-09-21T08:00:43.446Z"
      },
      {
        "duration": 24376,
        "start_time": "2023-09-21T08:00:44.109Z"
      },
      {
        "duration": 2734,
        "start_time": "2023-09-21T08:03:01.589Z"
      },
      {
        "duration": 4,
        "start_time": "2023-09-21T08:03:04.325Z"
      },
      {
        "duration": 44,
        "start_time": "2023-09-21T08:03:04.331Z"
      },
      {
        "duration": 1026,
        "start_time": "2023-09-21T08:03:04.378Z"
      },
      {
        "duration": 22,
        "start_time": "2023-09-21T08:03:05.406Z"
      },
      {
        "duration": 32,
        "start_time": "2023-09-21T08:03:05.430Z"
      },
      {
        "duration": 32,
        "start_time": "2023-09-21T08:03:05.602Z"
      },
      {
        "duration": 2,
        "start_time": "2023-09-21T08:03:13.282Z"
      },
      {
        "duration": 661,
        "start_time": "2023-09-21T08:03:14.282Z"
      },
      {
        "duration": 7,
        "start_time": "2023-09-21T08:03:21.113Z"
      },
      {
        "duration": 15,
        "start_time": "2023-09-21T08:03:22.008Z"
      },
      {
        "duration": 193,
        "start_time": "2023-09-21T08:03:35.858Z"
      },
      {
        "duration": 112642,
        "start_time": "2023-09-21T08:04:13.228Z"
      },
      {
        "duration": 11,
        "start_time": "2023-09-21T08:06:37.285Z"
      },
      {
        "duration": 15100,
        "start_time": "2023-09-21T08:07:44.824Z"
      },
      {
        "duration": 2427,
        "start_time": "2023-09-21T08:12:13.784Z"
      },
      {
        "duration": 4323,
        "start_time": "2023-09-21T08:12:16.214Z"
      },
      {
        "duration": 6,
        "start_time": "2023-09-21T08:12:20.539Z"
      },
      {
        "duration": 994,
        "start_time": "2023-09-21T08:12:20.547Z"
      },
      {
        "duration": 28,
        "start_time": "2023-09-21T08:12:21.543Z"
      },
      {
        "duration": 45,
        "start_time": "2023-09-21T08:12:21.573Z"
      },
      {
        "duration": 66,
        "start_time": "2023-09-21T08:12:21.620Z"
      },
      {
        "duration": 20,
        "start_time": "2023-09-21T08:12:21.687Z"
      },
      {
        "duration": 561,
        "start_time": "2023-09-21T08:12:21.709Z"
      },
      {
        "duration": 7,
        "start_time": "2023-09-21T08:12:28.476Z"
      },
      {
        "duration": 15,
        "start_time": "2023-09-21T08:12:28.894Z"
      },
      {
        "duration": 11,
        "start_time": "2023-09-21T08:12:32.072Z"
      },
      {
        "duration": 869593,
        "start_time": "2023-09-21T08:12:33.484Z"
      },
      {
        "duration": 33,
        "start_time": "2023-09-21T08:27:07.648Z"
      },
      {
        "duration": 19,
        "start_time": "2023-09-21T08:27:37.302Z"
      },
      {
        "duration": 20,
        "start_time": "2023-09-21T08:28:57.134Z"
      },
      {
        "duration": 668,
        "start_time": "2023-09-21T08:29:19.966Z"
      },
      {
        "duration": 11,
        "start_time": "2023-09-21T08:29:50.675Z"
      },
      {
        "duration": 6,
        "start_time": "2023-09-21T08:30:04.612Z"
      },
      {
        "duration": 6,
        "start_time": "2023-09-21T08:30:12.655Z"
      },
      {
        "duration": 5,
        "start_time": "2023-09-21T08:30:19.556Z"
      },
      {
        "duration": 5,
        "start_time": "2023-09-21T08:30:25.970Z"
      },
      {
        "duration": 3,
        "start_time": "2023-09-21T08:36:04.995Z"
      },
      {
        "duration": 30,
        "start_time": "2023-09-21T08:36:19.205Z"
      },
      {
        "duration": 4,
        "start_time": "2023-09-21T08:36:51.525Z"
      },
      {
        "duration": 1352,
        "start_time": "2023-09-21T08:36:57.530Z"
      },
      {
        "duration": 2,
        "start_time": "2023-09-21T08:37:30.776Z"
      },
      {
        "duration": 5,
        "start_time": "2023-09-21T08:38:04.381Z"
      },
      {
        "duration": 5,
        "start_time": "2023-09-21T08:39:34.225Z"
      },
      {
        "duration": 4,
        "start_time": "2023-09-21T08:39:47.773Z"
      },
      {
        "duration": 2633,
        "start_time": "2023-09-21T08:41:13.578Z"
      },
      {
        "duration": 4193,
        "start_time": "2023-09-21T08:41:16.213Z"
      },
      {
        "duration": 152,
        "start_time": "2023-09-21T08:41:20.408Z"
      },
      {
        "duration": 3,
        "start_time": "2023-09-21T08:41:20.563Z"
      },
      {
        "duration": 939,
        "start_time": "2023-09-21T08:41:20.567Z"
      },
      {
        "duration": 25,
        "start_time": "2023-09-21T08:41:21.507Z"
      },
      {
        "duration": 41,
        "start_time": "2023-09-21T08:41:21.533Z"
      },
      {
        "duration": 37,
        "start_time": "2023-09-21T08:41:21.576Z"
      },
      {
        "duration": 14,
        "start_time": "2023-09-21T08:41:21.616Z"
      },
      {
        "duration": 27,
        "start_time": "2023-09-21T08:41:21.632Z"
      },
      {
        "duration": 23,
        "start_time": "2023-09-21T08:41:21.661Z"
      },
      {
        "duration": 3,
        "start_time": "2023-09-21T08:41:22.208Z"
      },
      {
        "duration": 2,
        "start_time": "2023-09-21T08:41:32.309Z"
      },
      {
        "duration": 1104507,
        "start_time": "2023-09-21T08:41:32.313Z"
      },
      {
        "duration": 6,
        "start_time": "2023-09-21T08:59:56.822Z"
      },
      {
        "duration": 4,
        "start_time": "2023-09-21T08:59:56.843Z"
      },
      {
        "duration": 22,
        "start_time": "2023-09-21T08:59:56.849Z"
      },
      {
        "duration": 9,
        "start_time": "2023-09-21T09:03:46.622Z"
      },
      {
        "duration": 105,
        "start_time": "2023-09-21T09:04:27.052Z"
      },
      {
        "duration": 344,
        "start_time": "2023-09-21T09:05:06.598Z"
      },
      {
        "duration": 6,
        "start_time": "2023-09-21T09:05:12.827Z"
      },
      {
        "duration": 3,
        "start_time": "2023-09-21T09:05:23.783Z"
      },
      {
        "duration": 37,
        "start_time": "2023-09-21T09:05:24.422Z"
      },
      {
        "duration": 3,
        "start_time": "2023-09-21T09:05:55.213Z"
      },
      {
        "duration": 6895,
        "start_time": "2023-09-21T09:06:16.574Z"
      },
      {
        "duration": 4,
        "start_time": "2023-09-21T09:06:23.471Z"
      },
      {
        "duration": 18,
        "start_time": "2023-09-21T09:06:23.476Z"
      },
      {
        "duration": 48969,
        "start_time": "2023-09-21T09:08:25.904Z"
      },
      {
        "duration": 26794,
        "start_time": "2023-09-21T09:09:14.876Z"
      },
      {
        "duration": 19,
        "start_time": "2023-09-21T09:10:02.060Z"
      },
      {
        "duration": 35807,
        "start_time": "2023-09-21T09:13:49.567Z"
      },
      {
        "duration": 573,
        "start_time": "2023-09-21T09:17:07.837Z"
      },
      {
        "duration": 7297,
        "start_time": "2023-09-21T09:20:36.504Z"
      },
      {
        "duration": 964714,
        "start_time": "2023-09-21T09:21:48.060Z"
      },
      {
        "duration": 6460,
        "start_time": "2023-09-21T09:59:19.456Z"
      },
      {
        "duration": 22,
        "start_time": "2023-09-21T10:25:13.672Z"
      },
      {
        "duration": 2898,
        "start_time": "2023-09-21T10:32:07.193Z"
      },
      {
        "duration": 21,
        "start_time": "2023-09-21T10:43:18.143Z"
      },
      {
        "duration": 2510,
        "start_time": "2023-09-21T10:44:27.479Z"
      },
      {
        "duration": 4796,
        "start_time": "2023-09-21T10:44:29.993Z"
      },
      {
        "duration": 265,
        "start_time": "2023-09-21T10:44:34.792Z"
      },
      {
        "duration": 3,
        "start_time": "2023-09-21T10:44:35.060Z"
      },
      {
        "duration": 2571,
        "start_time": "2023-09-21T10:44:35.065Z"
      },
      {
        "duration": 33,
        "start_time": "2023-09-21T10:44:37.637Z"
      },
      {
        "duration": 25,
        "start_time": "2023-09-21T10:44:37.671Z"
      },
      {
        "duration": 48,
        "start_time": "2023-09-21T10:44:37.698Z"
      },
      {
        "duration": 11,
        "start_time": "2023-09-21T10:44:37.748Z"
      },
      {
        "duration": 25,
        "start_time": "2023-09-21T10:44:37.763Z"
      },
      {
        "duration": 42,
        "start_time": "2023-09-21T10:44:37.789Z"
      },
      {
        "duration": 34,
        "start_time": "2023-09-21T10:44:37.833Z"
      },
      {
        "duration": 21,
        "start_time": "2023-09-21T10:44:37.869Z"
      },
      {
        "duration": 182889,
        "start_time": "2023-09-21T10:44:37.892Z"
      },
      {
        "duration": 0,
        "start_time": "2023-09-21T10:47:40.783Z"
      },
      {
        "duration": 0,
        "start_time": "2023-09-21T10:47:40.784Z"
      },
      {
        "duration": 0,
        "start_time": "2023-09-21T10:47:40.785Z"
      },
      {
        "duration": 0,
        "start_time": "2023-09-21T10:47:40.786Z"
      },
      {
        "duration": 0,
        "start_time": "2023-09-21T10:47:40.787Z"
      },
      {
        "duration": 0,
        "start_time": "2023-09-21T10:47:40.789Z"
      },
      {
        "duration": 0,
        "start_time": "2023-09-21T10:47:40.790Z"
      },
      {
        "duration": 0,
        "start_time": "2023-09-21T10:47:40.791Z"
      },
      {
        "duration": 0,
        "start_time": "2023-09-21T10:47:40.792Z"
      },
      {
        "duration": 0,
        "start_time": "2023-09-21T10:47:40.793Z"
      },
      {
        "duration": 0,
        "start_time": "2023-09-21T10:47:40.794Z"
      },
      {
        "duration": 0,
        "start_time": "2023-09-21T10:47:40.795Z"
      },
      {
        "duration": 0,
        "start_time": "2023-09-21T10:47:40.797Z"
      },
      {
        "duration": 0,
        "start_time": "2023-09-21T10:47:40.798Z"
      },
      {
        "duration": 0,
        "start_time": "2023-09-21T10:47:40.799Z"
      },
      {
        "duration": 0,
        "start_time": "2023-09-21T10:47:40.800Z"
      },
      {
        "duration": 0,
        "start_time": "2023-09-21T10:47:40.802Z"
      },
      {
        "duration": 0,
        "start_time": "2023-09-21T10:47:40.802Z"
      },
      {
        "duration": 0,
        "start_time": "2023-09-21T10:47:40.803Z"
      },
      {
        "duration": 0,
        "start_time": "2023-09-21T10:47:40.805Z"
      },
      {
        "duration": 0,
        "start_time": "2023-09-21T10:47:40.806Z"
      },
      {
        "duration": 0,
        "start_time": "2023-09-21T10:47:40.807Z"
      },
      {
        "duration": 0,
        "start_time": "2023-09-21T10:47:40.808Z"
      },
      {
        "duration": 35264,
        "start_time": "2023-09-21T10:48:16.453Z"
      },
      {
        "duration": 9,
        "start_time": "2023-09-21T10:49:04.812Z"
      },
      {
        "duration": 5,
        "start_time": "2023-09-21T10:49:05.654Z"
      },
      {
        "duration": 104,
        "start_time": "2023-09-21T10:49:07.524Z"
      },
      {
        "duration": 4,
        "start_time": "2023-09-21T10:49:08.513Z"
      },
      {
        "duration": 3,
        "start_time": "2023-09-21T10:49:09.245Z"
      },
      {
        "duration": 328,
        "start_time": "2023-09-21T10:49:09.739Z"
      },
      {
        "duration": 20,
        "start_time": "2023-09-21T10:49:11.024Z"
      },
      {
        "duration": 3,
        "start_time": "2023-09-21T10:49:12.020Z"
      },
      {
        "duration": 31,
        "start_time": "2023-09-21T10:49:12.979Z"
      },
      {
        "duration": 5,
        "start_time": "2023-09-21T10:49:13.469Z"
      },
      {
        "duration": 6939,
        "start_time": "2023-09-21T10:49:14.107Z"
      },
      {
        "duration": 4,
        "start_time": "2023-09-21T10:49:21.048Z"
      },
      {
        "duration": 9,
        "start_time": "2023-09-21T10:49:21.054Z"
      },
      {
        "duration": 137,
        "start_time": "2023-09-21T10:49:39.916Z"
      },
      {
        "duration": 10,
        "start_time": "2023-09-21T10:49:40.469Z"
      },
      {
        "duration": 2353445,
        "start_time": "2023-09-21T10:49:54.475Z"
      },
      {
        "duration": 720,
        "start_time": "2023-09-21T11:33:17.372Z"
      },
      {
        "duration": 2417,
        "start_time": "2023-09-21T11:48:51.714Z"
      },
      {
        "duration": 2414,
        "start_time": "2023-09-21T11:48:54.134Z"
      },
      {
        "duration": 132,
        "start_time": "2023-09-21T11:48:56.550Z"
      },
      {
        "duration": 2,
        "start_time": "2023-09-21T11:48:56.684Z"
      },
      {
        "duration": 913,
        "start_time": "2023-09-21T11:48:56.687Z"
      },
      {
        "duration": 32,
        "start_time": "2023-09-21T11:48:57.602Z"
      },
      {
        "duration": 24,
        "start_time": "2023-09-21T11:48:57.643Z"
      },
      {
        "duration": 44,
        "start_time": "2023-09-21T11:48:57.669Z"
      },
      {
        "duration": 4,
        "start_time": "2023-09-21T11:48:57.715Z"
      },
      {
        "duration": 10,
        "start_time": "2023-09-21T11:48:57.722Z"
      },
      {
        "duration": 8,
        "start_time": "2023-09-21T11:48:57.734Z"
      },
      {
        "duration": 13949,
        "start_time": "2023-09-21T11:48:57.744Z"
      },
      {
        "duration": 0,
        "start_time": "2023-09-21T11:49:11.695Z"
      },
      {
        "duration": 0,
        "start_time": "2023-09-21T11:49:11.696Z"
      },
      {
        "duration": 0,
        "start_time": "2023-09-21T11:49:11.697Z"
      },
      {
        "duration": 0,
        "start_time": "2023-09-21T11:49:11.698Z"
      },
      {
        "duration": 0,
        "start_time": "2023-09-21T11:49:11.699Z"
      },
      {
        "duration": 0,
        "start_time": "2023-09-21T11:49:11.700Z"
      },
      {
        "duration": 0,
        "start_time": "2023-09-21T11:49:11.701Z"
      },
      {
        "duration": 0,
        "start_time": "2023-09-21T11:49:11.702Z"
      },
      {
        "duration": 0,
        "start_time": "2023-09-21T11:49:11.704Z"
      },
      {
        "duration": 0,
        "start_time": "2023-09-21T11:49:11.704Z"
      },
      {
        "duration": 0,
        "start_time": "2023-09-21T11:49:11.705Z"
      },
      {
        "duration": 0,
        "start_time": "2023-09-21T11:49:11.706Z"
      },
      {
        "duration": 0,
        "start_time": "2023-09-21T11:49:11.707Z"
      },
      {
        "duration": 0,
        "start_time": "2023-09-21T11:49:11.708Z"
      },
      {
        "duration": 0,
        "start_time": "2023-09-21T11:49:11.709Z"
      },
      {
        "duration": 0,
        "start_time": "2023-09-21T11:49:11.710Z"
      },
      {
        "duration": 0,
        "start_time": "2023-09-21T11:49:11.711Z"
      },
      {
        "duration": 0,
        "start_time": "2023-09-21T11:49:11.712Z"
      },
      {
        "duration": 0,
        "start_time": "2023-09-21T11:49:11.713Z"
      },
      {
        "duration": 0,
        "start_time": "2023-09-21T11:49:11.714Z"
      },
      {
        "duration": 1704,
        "start_time": "2023-09-21T11:49:16.669Z"
      },
      {
        "duration": 237,
        "start_time": "2023-09-21T11:49:18.375Z"
      },
      {
        "duration": 3,
        "start_time": "2023-09-21T11:49:18.613Z"
      },
      {
        "duration": 910,
        "start_time": "2023-09-21T11:49:18.618Z"
      },
      {
        "duration": 22,
        "start_time": "2023-09-21T11:49:19.530Z"
      },
      {
        "duration": 45,
        "start_time": "2023-09-21T11:49:19.553Z"
      },
      {
        "duration": 38,
        "start_time": "2023-09-21T11:49:19.600Z"
      },
      {
        "duration": 5,
        "start_time": "2023-09-21T11:49:19.640Z"
      },
      {
        "duration": 21,
        "start_time": "2023-09-21T11:49:19.646Z"
      },
      {
        "duration": 13,
        "start_time": "2023-09-21T11:49:19.670Z"
      },
      {
        "duration": 1157113,
        "start_time": "2023-09-21T11:49:19.685Z"
      },
      {
        "duration": 10,
        "start_time": "2023-09-21T12:08:36.799Z"
      },
      {
        "duration": 77,
        "start_time": "2023-09-21T12:08:36.810Z"
      },
      {
        "duration": 184,
        "start_time": "2023-09-21T12:08:36.888Z"
      },
      {
        "duration": 4,
        "start_time": "2023-09-21T12:08:37.074Z"
      },
      {
        "duration": 376,
        "start_time": "2023-09-21T12:08:37.080Z"
      },
      {
        "duration": 6,
        "start_time": "2023-09-21T12:08:37.458Z"
      },
      {
        "duration": 32,
        "start_time": "2023-09-21T12:08:37.466Z"
      },
      {
        "duration": 81,
        "start_time": "2023-09-21T12:08:37.499Z"
      },
      {
        "duration": 12,
        "start_time": "2023-09-21T12:08:37.582Z"
      },
      {
        "duration": 7863,
        "start_time": "2023-09-21T12:08:37.595Z"
      },
      {
        "duration": 3,
        "start_time": "2023-09-21T12:08:45.460Z"
      },
      {
        "duration": 28,
        "start_time": "2023-09-21T12:08:45.465Z"
      },
      {
        "duration": 180,
        "start_time": "2023-09-21T12:08:45.495Z"
      },
      {
        "duration": 8,
        "start_time": "2023-09-21T12:08:45.677Z"
      },
      {
        "duration": 30273,
        "start_time": "2023-09-21T12:08:45.686Z"
      },
      {
        "duration": 0,
        "start_time": "2023-09-21T12:45:51.500Z"
      },
      {
        "duration": 0,
        "start_time": "2023-09-21T12:45:51.501Z"
      },
      {
        "duration": 0,
        "start_time": "2023-09-21T12:45:51.502Z"
      },
      {
        "duration": 0,
        "start_time": "2023-09-21T12:45:51.503Z"
      },
      {
        "duration": 0,
        "start_time": "2023-09-21T12:45:51.510Z"
      },
      {
        "duration": 2141741,
        "start_time": "2023-09-21T12:46:08.261Z"
      },
      {
        "duration": 100,
        "start_time": "2023-09-21T13:21:50.004Z"
      },
      {
        "duration": 12,
        "start_time": "2023-09-21T13:21:50.105Z"
      },
      {
        "duration": 0,
        "start_time": "2023-09-21T13:21:50.119Z"
      },
      {
        "duration": 0,
        "start_time": "2023-09-21T13:21:50.120Z"
      },
      {
        "duration": 976244,
        "start_time": "2023-09-21T13:22:22.568Z"
      },
      {
        "duration": 5993,
        "start_time": "2023-09-21T13:38:38.814Z"
      },
      {
        "duration": 572,
        "start_time": "2023-09-21T13:38:44.809Z"
      },
      {
        "duration": 19,
        "start_time": "2023-09-21T13:38:45.383Z"
      },
      {
        "duration": 17,
        "start_time": "2023-09-21T13:52:47.228Z"
      },
      {
        "duration": 10,
        "start_time": "2023-09-21T13:52:51.759Z"
      },
      {
        "duration": 0,
        "start_time": "2023-09-21T13:55:46.261Z"
      },
      {
        "duration": 1805,
        "start_time": "2023-09-21T13:57:48.490Z"
      },
      {
        "duration": 173,
        "start_time": "2023-09-21T13:57:50.297Z"
      },
      {
        "duration": 3,
        "start_time": "2023-09-21T13:57:53.034Z"
      },
      {
        "duration": 2442,
        "start_time": "2023-09-21T13:57:53.041Z"
      },
      {
        "duration": 26,
        "start_time": "2023-09-21T13:57:57.628Z"
      },
      {
        "duration": 15,
        "start_time": "2023-09-21T13:57:57.656Z"
      },
      {
        "duration": 32,
        "start_time": "2023-09-21T13:57:58.457Z"
      },
      {
        "duration": 49,
        "start_time": "2023-09-21T14:01:48.516Z"
      },
      {
        "duration": 1618,
        "start_time": "2023-09-21T14:01:56.050Z"
      },
      {
        "duration": 169,
        "start_time": "2023-09-21T14:01:57.670Z"
      },
      {
        "duration": 3,
        "start_time": "2023-09-21T14:01:57.842Z"
      },
      {
        "duration": 2443,
        "start_time": "2023-09-21T14:01:57.847Z"
      },
      {
        "duration": 29,
        "start_time": "2023-09-21T14:02:00.291Z"
      },
      {
        "duration": 67,
        "start_time": "2023-09-21T14:02:00.322Z"
      },
      {
        "duration": 57,
        "start_time": "2023-09-21T14:02:00.391Z"
      },
      {
        "duration": 1746,
        "start_time": "2023-09-21T14:05:44.007Z"
      },
      {
        "duration": 272,
        "start_time": "2023-09-21T14:05:45.755Z"
      },
      {
        "duration": 3,
        "start_time": "2023-09-21T14:05:46.028Z"
      },
      {
        "duration": 2461,
        "start_time": "2023-09-21T14:05:46.032Z"
      },
      {
        "duration": 27,
        "start_time": "2023-09-21T14:05:48.495Z"
      },
      {
        "duration": 37,
        "start_time": "2023-09-21T14:05:48.524Z"
      },
      {
        "duration": 32,
        "start_time": "2023-09-21T14:05:49.711Z"
      },
      {
        "duration": 159,
        "start_time": "2023-09-21T14:05:50.507Z"
      },
      {
        "duration": 141,
        "start_time": "2023-09-21T14:06:01.246Z"
      },
      {
        "duration": 21,
        "start_time": "2023-09-21T14:06:05.586Z"
      },
      {
        "duration": 2169,
        "start_time": "2023-09-22T08:54:05.632Z"
      },
      {
        "duration": 394,
        "start_time": "2023-09-22T08:54:09.832Z"
      },
      {
        "duration": 3,
        "start_time": "2023-09-22T08:54:13.672Z"
      },
      {
        "duration": 2342,
        "start_time": "2023-09-22T08:54:17.542Z"
      },
      {
        "duration": 8,
        "start_time": "2023-09-22T08:54:30.867Z"
      },
      {
        "duration": 30,
        "start_time": "2023-09-22T08:54:35.512Z"
      },
      {
        "duration": 131,
        "start_time": "2023-09-22T09:00:58.466Z"
      },
      {
        "duration": 16,
        "start_time": "2023-09-22T09:03:56.131Z"
      },
      {
        "duration": 1961,
        "start_time": "2023-09-22T09:07:28.386Z"
      },
      {
        "duration": 419,
        "start_time": "2023-09-22T09:07:30.349Z"
      },
      {
        "duration": 3,
        "start_time": "2023-09-22T09:07:30.770Z"
      },
      {
        "duration": 2464,
        "start_time": "2023-09-22T09:07:30.774Z"
      },
      {
        "duration": 8,
        "start_time": "2023-09-22T09:07:33.240Z"
      },
      {
        "duration": 29,
        "start_time": "2023-09-22T09:07:33.250Z"
      },
      {
        "duration": 113,
        "start_time": "2023-09-22T09:07:43.655Z"
      },
      {
        "duration": 38,
        "start_time": "2023-09-22T09:08:39.185Z"
      },
      {
        "duration": 38,
        "start_time": "2023-09-22T09:08:45.765Z"
      },
      {
        "duration": 63,
        "start_time": "2023-09-22T09:10:57.449Z"
      },
      {
        "duration": 161,
        "start_time": "2023-09-22T09:11:05.326Z"
      },
      {
        "duration": 34,
        "start_time": "2023-09-22T09:11:36.150Z"
      },
      {
        "duration": 165,
        "start_time": "2023-09-22T09:11:56.535Z"
      },
      {
        "duration": 33,
        "start_time": "2023-09-22T09:17:47.430Z"
      },
      {
        "duration": 13,
        "start_time": "2023-09-22T09:19:01.278Z"
      },
      {
        "duration": 10,
        "start_time": "2023-09-22T09:19:06.158Z"
      },
      {
        "duration": 5,
        "start_time": "2023-09-22T09:19:16.986Z"
      },
      {
        "duration": 5,
        "start_time": "2023-09-22T09:19:29.507Z"
      },
      {
        "duration": 6,
        "start_time": "2023-09-22T09:19:33.024Z"
      },
      {
        "duration": 6,
        "start_time": "2023-09-22T09:19:39.470Z"
      },
      {
        "duration": 5,
        "start_time": "2023-09-22T09:19:43.509Z"
      },
      {
        "duration": 13,
        "start_time": "2023-09-22T09:19:55.964Z"
      },
      {
        "duration": 10,
        "start_time": "2023-09-22T09:20:07.598Z"
      },
      {
        "duration": 10,
        "start_time": "2023-09-22T09:20:22.594Z"
      },
      {
        "duration": 113,
        "start_time": "2023-09-22T09:20:44.840Z"
      },
      {
        "duration": 6,
        "start_time": "2023-09-22T09:21:13.552Z"
      },
      {
        "duration": 107,
        "start_time": "2023-09-22T09:21:23.069Z"
      },
      {
        "duration": 95,
        "start_time": "2023-09-22T09:21:56.158Z"
      },
      {
        "duration": 85,
        "start_time": "2023-09-22T09:25:38.605Z"
      },
      {
        "duration": 94,
        "start_time": "2023-09-22T09:28:13.588Z"
      },
      {
        "duration": 94,
        "start_time": "2023-09-22T09:30:07.743Z"
      },
      {
        "duration": 91,
        "start_time": "2023-09-22T09:31:09.374Z"
      },
      {
        "duration": 104,
        "start_time": "2023-09-22T09:37:17.740Z"
      },
      {
        "duration": 611,
        "start_time": "2023-09-22T09:42:54.063Z"
      },
      {
        "duration": 20,
        "start_time": "2023-09-22T09:45:06.353Z"
      },
      {
        "duration": 3,
        "start_time": "2023-09-22T09:45:06.868Z"
      },
      {
        "duration": 3,
        "start_time": "2023-09-22T09:45:08.082Z"
      },
      {
        "duration": 3,
        "start_time": "2023-09-22T09:45:08.558Z"
      },
      {
        "duration": 1088626,
        "start_time": "2023-09-22T09:45:10.426Z"
      },
      {
        "duration": 10,
        "start_time": "2023-09-22T10:03:19.053Z"
      },
      {
        "duration": 12,
        "start_time": "2023-09-22T10:03:19.066Z"
      },
      {
        "duration": 111,
        "start_time": "2023-09-22T10:03:19.080Z"
      },
      {
        "duration": 4,
        "start_time": "2023-09-22T10:03:19.193Z"
      },
      {
        "duration": 320,
        "start_time": "2023-09-22T10:03:19.198Z"
      },
      {
        "duration": 5,
        "start_time": "2023-09-22T10:03:19.520Z"
      },
      {
        "duration": 16,
        "start_time": "2023-09-22T10:03:19.526Z"
      },
      {
        "duration": 30,
        "start_time": "2023-09-22T10:03:19.629Z"
      },
      {
        "duration": 9,
        "start_time": "2023-09-22T10:03:19.660Z"
      },
      {
        "duration": 1708,
        "start_time": "2023-09-22T10:07:22.484Z"
      },
      {
        "duration": 220,
        "start_time": "2023-09-22T10:07:24.193Z"
      },
      {
        "duration": 3,
        "start_time": "2023-09-22T10:07:24.570Z"
      },
      {
        "duration": 896,
        "start_time": "2023-09-22T10:07:24.950Z"
      },
      {
        "duration": 9,
        "start_time": "2023-09-22T10:07:27.476Z"
      },
      {
        "duration": 31,
        "start_time": "2023-09-22T10:07:28.047Z"
      },
      {
        "duration": 107,
        "start_time": "2023-09-22T10:07:29.454Z"
      },
      {
        "duration": 21,
        "start_time": "2023-09-22T10:07:32.811Z"
      },
      {
        "duration": 4,
        "start_time": "2023-09-22T10:07:40.875Z"
      },
      {
        "duration": 3,
        "start_time": "2023-09-22T10:07:41.420Z"
      },
      {
        "duration": 2,
        "start_time": "2023-09-22T10:07:41.884Z"
      },
      {
        "duration": 1067826,
        "start_time": "2023-09-22T10:07:42.992Z"
      },
      {
        "duration": 9,
        "start_time": "2023-09-22T10:25:30.820Z"
      },
      {
        "duration": 5,
        "start_time": "2023-09-22T10:25:38.758Z"
      },
      {
        "duration": 89,
        "start_time": "2023-09-22T10:25:40.076Z"
      },
      {
        "duration": 3,
        "start_time": "2023-09-22T10:25:41.368Z"
      },
      {
        "duration": 308,
        "start_time": "2023-09-22T10:25:42.366Z"
      },
      {
        "duration": 5,
        "start_time": "2023-09-22T10:25:44.926Z"
      },
      {
        "duration": 3,
        "start_time": "2023-09-22T10:25:47.441Z"
      },
      {
        "duration": 28,
        "start_time": "2023-09-22T10:25:49.129Z"
      },
      {
        "duration": 9,
        "start_time": "2023-09-22T10:25:50.789Z"
      },
      {
        "duration": 4,
        "start_time": "2023-09-22T10:25:52.507Z"
      },
      {
        "duration": 6392,
        "start_time": "2023-09-22T10:25:57.220Z"
      },
      {
        "duration": 4,
        "start_time": "2023-09-22T10:26:10.354Z"
      },
      {
        "duration": 3,
        "start_time": "2023-09-22T10:26:11.090Z"
      },
      {
        "duration": 4,
        "start_time": "2023-09-22T10:26:33.538Z"
      },
      {
        "duration": 187,
        "start_time": "2023-09-22T10:26:39.153Z"
      },
      {
        "duration": 78,
        "start_time": "2023-09-22T10:27:44.157Z"
      },
      {
        "duration": 111,
        "start_time": "2023-09-22T10:27:56.486Z"
      },
      {
        "duration": 13506,
        "start_time": "2023-09-22T10:28:20.196Z"
      },
      {
        "duration": 15649,
        "start_time": "2023-09-22T10:41:59.106Z"
      },
      {
        "duration": 1873630,
        "start_time": "2023-09-22T11:20:27.180Z"
      },
      {
        "duration": 645776,
        "start_time": "2023-09-22T11:55:15.002Z"
      },
      {
        "duration": 218,
        "start_time": "2023-09-22T12:08:06.592Z"
      },
      {
        "duration": 20,
        "start_time": "2023-09-22T12:11:45.707Z"
      },
      {
        "duration": 3,
        "start_time": "2023-09-22T12:11:51.677Z"
      },
      {
        "duration": 1986,
        "start_time": "2023-09-22T12:12:01.472Z"
      },
      {
        "duration": 8,
        "start_time": "2023-09-22T12:12:10.973Z"
      }
    ],
    "kernelspec": {
      "display_name": "Python 3 (ipykernel)",
      "language": "python",
      "name": "python3"
    },
    "language_info": {
      "codemirror_mode": {
        "name": "ipython",
        "version": 3
      },
      "file_extension": ".py",
      "mimetype": "text/x-python",
      "name": "python",
      "nbconvert_exporter": "python",
      "pygments_lexer": "ipython3",
      "version": "3.9.5"
    },
    "toc": {
      "base_numbering": 1,
      "nav_menu": {},
      "number_sections": true,
      "sideBar": true,
      "skip_h1_title": true,
      "title_cell": "Содержание",
      "title_sidebar": "Contents",
      "toc_cell": true,
      "toc_position": {
        "height": "calc(100% - 180px)",
        "left": "10px",
        "top": "150px",
        "width": "302.391px"
      },
      "toc_section_display": true,
      "toc_window_display": true
    },
    "colab": {
      "provenance": []
    }
  },
  "nbformat": 4,
  "nbformat_minor": 0
}